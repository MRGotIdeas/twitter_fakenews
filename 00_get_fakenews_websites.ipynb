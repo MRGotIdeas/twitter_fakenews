{
 "cells": [
  {
   "cell_type": "markdown",
   "metadata": {
    "colab_type": "text",
    "id": "view-in-github"
   },
   "source": [
    "<a href=\"https://colab.research.google.com/github/MRGotIdeas/twitter_fakenews/blob/main/00_get_fakenews_websites.ipynb\" target=\"_parent\"><img src=\"https://colab.research.google.com/assets/colab-badge.svg\" alt=\"Open In Colab\"/></a>"
   ]
  },
  {
   "cell_type": "markdown",
   "metadata": {
    "id": "_z8HT9nB6gf_"
   },
   "source": [
    "# Récupération des sites de fake news\n",
    "\n",
    "LeMonde met à disposition un fichier json contenant des sites d'information ainsi que leur fiabilité. Ce notebook vise à récupérer cette information, et l'enregistrer au format csv. \n",
    "\n",
    "Voir issue #2 : https://github.com/MRGotIdeas/twitter_fakenews"
   ]
  },
  {
   "cell_type": "markdown",
   "metadata": {
    "id": "EwFRy9gU6ysu"
   },
   "source": [
    "#### Import packages"
   ]
  },
  {
   "cell_type": "code",
   "execution_count": 18,
   "metadata": {
    "id": "htZ2qaf36arg"
   },
   "outputs": [],
   "source": [
    "import pandas as pd\n",
    "import json\n",
    "import re"
   ]
  },
  {
   "cell_type": "code",
   "execution_count": 24,
   "metadata": {
    "id": "0x1Fjnf866I2"
   },
   "outputs": [],
   "source": [
    "path_data = 'C:/Users/ManonRICHARD/Documents/PFE/twitter-fakenews/PFE/twitter_fakenews/data'"
   ]
  },
  {
   "cell_type": "code",
   "execution_count": 30,
   "metadata": {},
   "outputs": [
    {
     "name": "stdout",
     "output_type": "stream",
     "text": [
      "C:\\Users\\ManonRICHARD\\Documents\\PFE\\twitter-fakenews\\data\n"
     ]
    }
   ],
   "source": [
    "%cd data"
   ]
  },
  {
   "cell_type": "markdown",
   "metadata": {
    "id": "029G5kTqH3sx"
   },
   "source": [
    "## Import du fichier json\n",
    "\n",
    "NB : l'enregistrer à partir du site leMonde au format \"données brutes\" et non au format json"
   ]
  },
  {
   "cell_type": "code",
   "execution_count": 33,
   "metadata": {
    "id": "rDUZy-zK7tEt"
   },
   "outputs": [],
   "source": [
    "with open(f'fakenews_websites_lemonde.json', 'r') as json_file:\n",
    "    data = json.loads(json_file.read())"
   ]
  },
  {
   "cell_type": "code",
   "execution_count": 34,
   "metadata": {
    "colab": {
     "base_uri": "https://localhost:8080/"
    },
    "id": "uEbDiNhc-Z17",
    "outputId": "09cbce9e-4694-4576-8a89-3705bc8f4f31"
   },
   "outputs": [
    {
     "data": {
      "text/plain": [
       "dict_keys(['sites', 'urls'])"
      ]
     },
     "execution_count": 34,
     "metadata": {},
     "output_type": "execute_result"
    }
   ],
   "source": [
    "data.keys()"
   ]
  },
  {
   "cell_type": "markdown",
   "metadata": {
    "id": "uFHZrC4fDxwc"
   },
   "source": [
    "**Good to know** : \n",
    "- La clé `sites` représente certaines informations comme la fiabilité, un descriptif du site, le nom du site \n",
    "- La clé `urls` donne l'ensemble des liens qui appartiennent au site : lien facebook, twitter, youtube, etc"
   ]
  },
  {
   "cell_type": "code",
   "execution_count": null,
   "metadata": {
    "id": "0iM2lVfqC6bv"
   },
   "outputs": [],
   "source": [
    "# un exemple de site \n",
    "data['sites']['1393']"
   ]
  },
  {
   "cell_type": "code",
   "execution_count": null,
   "metadata": {
    "id": "JdJ2qQNhDTyU"
   },
   "outputs": [],
   "source": [
    "# on cherche l'ensemble des sites qui ont l'identifiant 1393 : buzzarena\n",
    "[key for key, value in data['urls'].items() if value == 1393]"
   ]
  },
  {
   "cell_type": "code",
   "execution_count": null,
   "metadata": {
    "id": "E1B95W29FfXF"
   },
   "outputs": [],
   "source": [
    "# on rajoute la contrainte : on ne veut que les comptes twitter\n",
    "[key for key, value in data['urls'].items() if value == 1393 and re.search(\"twitter\", key)]"
   ]
  },
  {
   "cell_type": "markdown",
   "metadata": {
    "id": "RjZhN8ELIM5m"
   },
   "source": [
    "## Formatage des données\n",
    "\n",
    "On va faire matcher les comptes twitter avec les infos sur les sites"
   ]
  },
  {
   "cell_type": "code",
   "execution_count": 94,
   "metadata": {
    "id": "KbK7xSTQEzvf"
   },
   "outputs": [],
   "source": [
    "def label_liability(df) : \n",
    "    \n",
    "    df['liability_label'] = df['liability'].map({1:'site parodique', \n",
    "                                                 2:'site qui diffuse régulièrement de la fausse information',\n",
    "                                                 3:'site à la fiabilité douteuse',\n",
    "                                                 4:'site réputé fiable'})\n",
    "  \n",
    "    return df\n",
    "\n",
    "\n",
    "\n",
    "def format_df_fakenews(json_file) :\n",
    "\n",
    "    df_sites = pd.DataFrame.from_dict(json_file[\"sites\"], \n",
    "                                    orient=\"index\", \n",
    "                                    columns=[\"liability\", \"description\",\"name\",\"namelow\"])\\\n",
    "                                    .reset_index()\\\n",
    "                                    .rename(columns={'index': 'unique_id'})\n",
    "\n",
    "    df_sites = label_liability(df_sites)\n",
    "  \n",
    "    df_url = pd.DataFrame.from_dict(json_file[\"urls\"], orient=\"index\").reset_index()\n",
    "    df_url.columns = [\"path_website\", \"unique_id\"]\n",
    "    \n",
    "    df_url['twitter'] =  df_url['path_website'].apply(lambda txt : len(re.findall(\"twitter.+\", txt)) > 0)\n",
    "    df_url = df_url.loc[df_url['twitter']]\n",
    "    df_url['unique_id'] = df_url['unique_id'].astype('str')\n",
    "    \n",
    "    df_sites = pd.merge(df_sites, df_url, on=\"unique_id\")\n",
    "    \n",
    "    return df_sites\n"
   ]
  },
  {
   "cell_type": "code",
   "execution_count": 95,
   "metadata": {},
   "outputs": [],
   "source": [
    "df_twitter = format_df_fakenews(data)"
   ]
  },
  {
   "cell_type": "code",
   "execution_count": null,
   "metadata": {},
   "outputs": [],
   "source": [
    "df_twitter.head()"
   ]
  },
  {
   "cell_type": "code",
   "execution_count": 97,
   "metadata": {
    "colab": {
     "base_uri": "https://localhost:8080/"
    },
    "id": "jGE764stisV5",
    "outputId": "9d03b36c-c82f-4e16-bc1c-a2c603e7e2eb"
   },
   "outputs": [
    {
     "data": {
      "text/plain": [
       "site réputé fiable                                         228\n",
       "site qui diffuse régulièrement de la fausse information     88\n",
       "site à la fiabilité douteuse                                59\n",
       "site parodique                                              50\n",
       "Name: liability_label, dtype: int64"
      ]
     },
     "execution_count": 97,
     "metadata": {},
     "output_type": "execute_result"
    }
   ],
   "source": [
    "df_twitter['liability_label'].value_counts()"
   ]
  },
  {
   "cell_type": "markdown",
   "metadata": {},
   "source": [
    "> Il y a 88 comptes twitter qui diffusent de la fausse information régulièrement \\\n",
    "> Il y a 228 comptes twitter qui sont réputés fiables\n",
    "\n",
    "--> On va sûrement prendre les sites à la fiabilité douteuse également pour avoir un plus gros effectif de sites de fake news"
   ]
  },
  {
   "cell_type": "markdown",
   "metadata": {
    "id": "EftaWO7pTBZa"
   },
   "source": [
    "## Export du dataframe "
   ]
  },
  {
   "cell_type": "code",
   "execution_count": 102,
   "metadata": {},
   "outputs": [],
   "source": [
    "df_twitter.to_csv(\"twitter_accounts_decodex.csv\", sep=\";\", encoding='UTF-8', index=False)"
   ]
  },
  {
   "cell_type": "code",
   "execution_count": null,
   "metadata": {},
   "outputs": [],
   "source": []
  }
 ],
 "metadata": {
  "colab": {
   "authorship_tag": "ABX9TyNU705es0smN4FDR/snjlWx",
   "collapsed_sections": [],
   "include_colab_link": true,
   "mount_file_id": "1jBNFrRc76CU66JYDt0sIS9WrDd4YN0yx",
   "name": "00_get_fakenews_websites.ipynb",
   "provenance": [],
   "toc_visible": true
  },
  "kernelspec": {
   "display_name": "Python 3 (ipykernel)",
   "language": "python",
   "name": "python3"
  },
  "language_info": {
   "codemirror_mode": {
    "name": "ipython",
    "version": 3
   },
   "file_extension": ".py",
   "mimetype": "text/x-python",
   "name": "python",
   "nbconvert_exporter": "python",
   "pygments_lexer": "ipython3",
   "version": "3.7.11"
  }
 },
 "nbformat": 4,
 "nbformat_minor": 1
}
