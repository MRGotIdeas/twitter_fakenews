{
  "nbformat": 4,
  "nbformat_minor": 0,
  "metadata": {
    "colab": {
      "name": "00_get_fakenews_websites.ipynb",
      "provenance": [],
      "collapsed_sections": [],
      "toc_visible": true,
      "mount_file_id": "1jBNFrRc76CU66JYDt0sIS9WrDd4YN0yx",
      "authorship_tag": "ABX9TyOtxVKymVFgGWeQzO+5XDHS",
      "include_colab_link": true
    },
    "kernelspec": {
      "name": "python3",
      "display_name": "Python 3"
    },
    "language_info": {
      "name": "python"
    }
  },
  "cells": [
    {
      "cell_type": "markdown",
      "metadata": {
        "id": "view-in-github",
        "colab_type": "text"
      },
      "source": [
        "<a href=\"https://colab.research.google.com/github/MRGotIdeas/twitter_fakenews/blob/main/00_get_fakenews_websites.ipynb\" target=\"_parent\"><img src=\"https://colab.research.google.com/assets/colab-badge.svg\" alt=\"Open In Colab\"/></a>"
      ]
    },
    {
      "cell_type": "markdown",
      "metadata": {
        "id": "_z8HT9nB6gf_"
      },
      "source": [
        "# Récupération des sites de fake news\n",
        "\n",
        "LeMonde met à disposition un fichier json contenant des sites d'information ainsi que leur fiabilité. Ce notebook vise à récupérer cette information, et l'enregistrer au format csv. \n",
        "\n",
        "Voir issue #x"
      ]
    },
    {
      "cell_type": "markdown",
      "metadata": {
        "id": "EwFRy9gU6ysu"
      },
      "source": [
        "#### Import packages"
      ]
    },
    {
      "cell_type": "code",
      "metadata": {
        "id": "htZ2qaf36arg"
      },
      "source": [
        "import pandas as pd\n",
        "import json\n",
        "import re"
      ],
      "execution_count": null,
      "outputs": []
    },
    {
      "cell_type": "code",
      "metadata": {
        "id": "0x1Fjnf866I2"
      },
      "source": [
        "path_data = '/content/drive/MyDrive/Colab Notebooks/PFE/twitter_fakenews/data/'"
      ],
      "execution_count": null,
      "outputs": []
    },
    {
      "cell_type": "markdown",
      "metadata": {
        "id": "LNGCK6yIH3pv"
      },
      "source": [
        "TEST github"
      ]
    },
    {
      "cell_type": "markdown",
      "metadata": {
        "id": "029G5kTqH3sx"
      },
      "source": [
        "## Import du fichier json\n",
        "\n",
        "NB : l'enregistrer à partir du site leMonde au format \"données brutes\" et non au format json"
      ]
    },
    {
      "cell_type": "code",
      "metadata": {
        "id": "rDUZy-zK7tEt"
      },
      "source": [
        "with open(f'{path_data}/fakenews_websites_lemonde.json', 'r') as json_file:\n",
        "  data = json.loads(json_file.read())"
      ],
      "execution_count": null,
      "outputs": []
    },
    {
      "cell_type": "code",
      "metadata": {
        "colab": {
          "base_uri": "https://localhost:8080/"
        },
        "id": "uEbDiNhc-Z17",
        "outputId": "09cbce9e-4694-4576-8a89-3705bc8f4f31"
      },
      "source": [
        "data.keys()"
      ],
      "execution_count": null,
      "outputs": [
        {
          "output_type": "execute_result",
          "data": {
            "text/plain": [
              "dict_keys(['sites', 'urls'])"
            ]
          },
          "metadata": {},
          "execution_count": 4
        }
      ]
    },
    {
      "cell_type": "markdown",
      "metadata": {
        "id": "uFHZrC4fDxwc"
      },
      "source": [
        "**Good to know** : \n",
        "- La clé `sites` représente certaines informations comme la fiabilité, un descriptif du site, le nom du site \n",
        "- La clé `urls` donne l'ensemble des liens qui appartiennent au site : lien facebook, twitter, youtube, etc"
      ]
    },
    {
      "cell_type": "code",
      "metadata": {
        "id": "0iM2lVfqC6bv"
      },
      "source": [
        "# un exemple de site \n",
        "data['sites']['1393']"
      ],
      "execution_count": null,
      "outputs": []
    },
    {
      "cell_type": "code",
      "metadata": {
        "id": "JdJ2qQNhDTyU"
      },
      "source": [
        "# on cherche l'ensemble des sites qui ont l'identifiant 1393 : buzzarena\n",
        "[key for key, value in data['urls'].items() if value == 1393]"
      ],
      "execution_count": null,
      "outputs": []
    },
    {
      "cell_type": "code",
      "metadata": {
        "id": "E1B95W29FfXF"
      },
      "source": [
        "# on rajoute la contrainte : on ne veut que les comptes twitter\n",
        "[key for key, value in data['urls'].items() if value == 1393 and re.search(\"twitter\", key)]"
      ],
      "execution_count": null,
      "outputs": []
    },
    {
      "cell_type": "markdown",
      "metadata": {
        "id": "RjZhN8ELIM5m"
      },
      "source": [
        "## Formatage des données\n",
        "\n",
        "On va faire matcher les comptes twitter avec les infos sur les sites"
      ]
    },
    {
      "cell_type": "code",
      "metadata": {
        "id": "KbK7xSTQEzvf"
      },
      "source": [
        "def format_df_fakenews(json_file) :\n",
        "\n",
        "  df_sites = pd.DataFrame.from_dict(json_file[\"sites\"], \n",
        "                                    orient=\"index\", \n",
        "                                    columns=[\"liability\", \"description\",\"name\",\"namelow\"])\\\n",
        "                                    .reset_index()\\\n",
        "                                    .rename(columns={'index': 'unique_id'})\n",
        "  \n",
        "  df_url = pd.DataFrame.from_dict(json_file[\"urls\"], orient=\"index\").reset_index()\n",
        "  df_url.columns = [\"path_website\", \"unique_id\"]\n",
        "\n",
        "  return df_sites\n"
      ],
      "execution_count": null,
      "outputs": []
    },
    {
      "cell_type": "code",
      "metadata": {
        "colab": {
          "base_uri": "https://localhost:8080/"
        },
        "id": "Lstu8FVlIL-w",
        "outputId": "12adbfd1-d85b-4e02-d877-f9bd463b6cef"
      },
      "source": [
        "df_test = pd.DataFrame.from_dict(data['sites'], \n",
        "                                 orient=\"index\", \n",
        "                                 columns=[\"liability\", \"description\",\"name\",\"namelow\"])\\\n",
        "                                 .reset_index()\\\n",
        "                                 .rename(columns={'index': 'unique_id'})\n",
        "df_test.shape"
      ],
      "execution_count": null,
      "outputs": [
        {
          "output_type": "execute_result",
          "data": {
            "text/plain": [
              "(1343, 5)"
            ]
          },
          "metadata": {},
          "execution_count": 9
        }
      ]
    },
    {
      "cell_type": "code",
      "metadata": {
        "colab": {
          "base_uri": "https://localhost:8080/"
        },
        "id": "q6aqMRFabWFA",
        "outputId": "eb00c691-5f3a-46d6-a078-3b8afd134d12"
      },
      "source": [
        "df_test.unique_id.describe()"
      ],
      "execution_count": null,
      "outputs": [
        {
          "output_type": "execute_result",
          "data": {
            "text/plain": [
              "count     1343\n",
              "unique    1343\n",
              "top       1250\n",
              "freq         1\n",
              "Name: unique_id, dtype: object"
            ]
          },
          "metadata": {},
          "execution_count": 10
        }
      ]
    },
    {
      "cell_type": "code",
      "metadata": {
        "id": "s0sQUU9tk0kT"
      },
      "source": [
        "def label_liability(df) : \n",
        "  df['liability_label'] = df['liability'].map({1:'site parodique', \n",
        "                                               2:'site qui diffuse régulièrement de la fausse information',\n",
        "                                               3:'site à la fiabilité douteuse',\n",
        "                                               4:'site réputé fiable'})\n",
        "  \n",
        "  return df\n",
        "\n",
        "df_test = label_liability(df_test)"
      ],
      "execution_count": null,
      "outputs": []
    },
    {
      "cell_type": "code",
      "metadata": {
        "id": "MsP46qaJgu9i"
      },
      "source": [
        "df_test.head(3)"
      ],
      "execution_count": null,
      "outputs": []
    },
    {
      "cell_type": "code",
      "metadata": {
        "colab": {
          "base_uri": "https://localhost:8080/"
        },
        "id": "jGE764stisV5",
        "outputId": "9d03b36c-c82f-4e16-bc1c-a2c603e7e2eb"
      },
      "source": [
        "df_test['liability_label'].value_counts()"
      ],
      "execution_count": null,
      "outputs": [
        {
          "output_type": "execute_result",
          "data": {
            "text/plain": [
              "site qui diffuse régulièrement de la fausse information    665\n",
              "site réputé fiable                                         311\n",
              "site à la fiabilité douteuse                               243\n",
              "site parodique                                             124\n",
              "Name: liability_label, dtype: int64"
            ]
          },
          "metadata": {},
          "execution_count": 43
        }
      ]
    },
    {
      "cell_type": "code",
      "metadata": {
        "id": "AEAKGFySg55A"
      },
      "source": [
        "df_url = pd.DataFrame.from_dict(data[\"urls\"], orient=\"index\").reset_index()\n",
        "df_url.columns = [\"path_website\", \"unique_id\"]"
      ],
      "execution_count": null,
      "outputs": []
    },
    {
      "cell_type": "code",
      "metadata": {
        "id": "dxfodOf8hm1-",
        "colab": {
          "base_uri": "https://localhost:8080/",
          "height": 143
        },
        "outputId": "8aa5d416-4fda-49a0-f784-369026f96367"
      },
      "source": [
        "df_url.head(3)"
      ],
      "execution_count": null,
      "outputs": [
        {
          "output_type": "execute_result",
          "data": {
            "text/html": [
              "<div>\n",
              "<style scoped>\n",
              "    .dataframe tbody tr th:only-of-type {\n",
              "        vertical-align: middle;\n",
              "    }\n",
              "\n",
              "    .dataframe tbody tr th {\n",
              "        vertical-align: top;\n",
              "    }\n",
              "\n",
              "    .dataframe thead th {\n",
              "        text-align: right;\n",
              "    }\n",
              "</style>\n",
              "<table border=\"1\" class=\"dataframe\">\n",
              "  <thead>\n",
              "    <tr style=\"text-align: right;\">\n",
              "      <th></th>\n",
              "      <th>path_website</th>\n",
              "      <th>unique_id</th>\n",
              "    </tr>\n",
              "  </thead>\n",
              "  <tbody>\n",
              "    <tr>\n",
              "      <th>0</th>\n",
              "      <td>francesoir.fr</td>\n",
              "      <td>1982</td>\n",
              "    </tr>\n",
              "    <tr>\n",
              "      <th>1</th>\n",
              "      <td>facebook.com/FranceSoir</td>\n",
              "      <td>1982</td>\n",
              "    </tr>\n",
              "    <tr>\n",
              "      <th>2</th>\n",
              "      <td>twitter.com/france_soir</td>\n",
              "      <td>1982</td>\n",
              "    </tr>\n",
              "  </tbody>\n",
              "</table>\n",
              "</div>"
            ],
            "text/plain": [
              "              path_website  unique_id\n",
              "0            francesoir.fr       1982\n",
              "1  facebook.com/FranceSoir       1982\n",
              "2  twitter.com/france_soir       1982"
            ]
          },
          "metadata": {},
          "execution_count": 45
        }
      ]
    },
    {
      "cell_type": "code",
      "metadata": {
        "colab": {
          "base_uri": "https://localhost:8080/"
        },
        "id": "kZfo-dBD-LPi",
        "outputId": "17bba946-f434-401e-a25d-f305bafc5381"
      },
      "source": [
        "count_sites_by_id = df_url.groupby('unique_id').size().reset_index()\n",
        "count_sites_by_id.columns = ['unique_id','count']\n",
        "count_sites_by_id['count'].value_counts()"
      ],
      "execution_count": null,
      "outputs": [
        {
          "output_type": "execute_result",
          "data": {
            "text/plain": [
              "1    710\n",
              "3    313\n",
              "2    230\n",
              "4     80\n",
              "Name: count, dtype: int64"
            ]
          },
          "metadata": {},
          "execution_count": 46
        }
      ]
    },
    {
      "cell_type": "code",
      "metadata": {
        "id": "HvZNe8p8APvf"
      },
      "source": [
        "df_url['facebook'] = df_url.path_website.apply(lambda txt : len(re.findall(\"[fF]acebook.+\", txt))>0)\n",
        "df_url['youtube'] = df_url.path_website.apply(lambda txt : len(re.findall(\"[yY]outube.+\", txt))>0)\n",
        "df_url['twitter'] = df_url.path_website.apply(lambda txt : len(re.findall(\"twitter.+\", txt))>0)"
      ],
      "execution_count": null,
      "outputs": []
    },
    {
      "cell_type": "code",
      "metadata": {
        "colab": {
          "base_uri": "https://localhost:8080/",
          "height": 206
        },
        "id": "jKYIoaQFBaE_",
        "outputId": "f331c559-7072-4f57-89ed-7d709adceed2"
      },
      "source": [
        "df_url.head()"
      ],
      "execution_count": null,
      "outputs": [
        {
          "output_type": "execute_result",
          "data": {
            "text/html": [
              "<div>\n",
              "<style scoped>\n",
              "    .dataframe tbody tr th:only-of-type {\n",
              "        vertical-align: middle;\n",
              "    }\n",
              "\n",
              "    .dataframe tbody tr th {\n",
              "        vertical-align: top;\n",
              "    }\n",
              "\n",
              "    .dataframe thead th {\n",
              "        text-align: right;\n",
              "    }\n",
              "</style>\n",
              "<table border=\"1\" class=\"dataframe\">\n",
              "  <thead>\n",
              "    <tr style=\"text-align: right;\">\n",
              "      <th></th>\n",
              "      <th>path_website</th>\n",
              "      <th>unique_id</th>\n",
              "      <th>facebook</th>\n",
              "      <th>youtube</th>\n",
              "      <th>twitter</th>\n",
              "    </tr>\n",
              "  </thead>\n",
              "  <tbody>\n",
              "    <tr>\n",
              "      <th>0</th>\n",
              "      <td>francesoir.fr</td>\n",
              "      <td>1982</td>\n",
              "      <td>False</td>\n",
              "      <td>False</td>\n",
              "      <td>False</td>\n",
              "    </tr>\n",
              "    <tr>\n",
              "      <th>1</th>\n",
              "      <td>facebook.com/FranceSoir</td>\n",
              "      <td>1982</td>\n",
              "      <td>True</td>\n",
              "      <td>False</td>\n",
              "      <td>False</td>\n",
              "    </tr>\n",
              "    <tr>\n",
              "      <th>2</th>\n",
              "      <td>twitter.com/france_soir</td>\n",
              "      <td>1982</td>\n",
              "      <td>False</td>\n",
              "      <td>False</td>\n",
              "      <td>True</td>\n",
              "    </tr>\n",
              "    <tr>\n",
              "      <th>3</th>\n",
              "      <td>regenere.org</td>\n",
              "      <td>1981</td>\n",
              "      <td>False</td>\n",
              "      <td>False</td>\n",
              "      <td>False</td>\n",
              "    </tr>\n",
              "    <tr>\n",
              "      <th>4</th>\n",
              "      <td>facebook.com/thierry.rgnr</td>\n",
              "      <td>1981</td>\n",
              "      <td>True</td>\n",
              "      <td>False</td>\n",
              "      <td>False</td>\n",
              "    </tr>\n",
              "  </tbody>\n",
              "</table>\n",
              "</div>"
            ],
            "text/plain": [
              "                path_website  unique_id  facebook  youtube  twitter\n",
              "0              francesoir.fr       1982     False    False    False\n",
              "1    facebook.com/FranceSoir       1982      True    False    False\n",
              "2    twitter.com/france_soir       1982     False    False     True\n",
              "3               regenere.org       1981     False    False    False\n",
              "4  facebook.com/thierry.rgnr       1981      True    False    False"
            ]
          },
          "metadata": {},
          "execution_count": 75
        }
      ]
    },
    {
      "cell_type": "code",
      "metadata": {
        "colab": {
          "base_uri": "https://localhost:8080/",
          "height": 143
        },
        "id": "aj3Js8niBc-y",
        "outputId": "984502c8-2bf2-41c3-94a1-c040024a3be6"
      },
      "source": [
        "test = df_url.groupby(\"unique_id\").nunique().reset_index()\n",
        "test.head(3)"
      ],
      "execution_count": null,
      "outputs": [
        {
          "output_type": "execute_result",
          "data": {
            "text/html": [
              "<div>\n",
              "<style scoped>\n",
              "    .dataframe tbody tr th:only-of-type {\n",
              "        vertical-align: middle;\n",
              "    }\n",
              "\n",
              "    .dataframe tbody tr th {\n",
              "        vertical-align: top;\n",
              "    }\n",
              "\n",
              "    .dataframe thead th {\n",
              "        text-align: right;\n",
              "    }\n",
              "</style>\n",
              "<table border=\"1\" class=\"dataframe\">\n",
              "  <thead>\n",
              "    <tr style=\"text-align: right;\">\n",
              "      <th></th>\n",
              "      <th>unique_id</th>\n",
              "      <th>path_website</th>\n",
              "      <th>facebook</th>\n",
              "      <th>youtube</th>\n",
              "      <th>twitter</th>\n",
              "    </tr>\n",
              "  </thead>\n",
              "  <tbody>\n",
              "    <tr>\n",
              "      <th>0</th>\n",
              "      <td>573</td>\n",
              "      <td>4</td>\n",
              "      <td>2</td>\n",
              "      <td>2</td>\n",
              "      <td>2</td>\n",
              "    </tr>\n",
              "    <tr>\n",
              "      <th>1</th>\n",
              "      <td>574</td>\n",
              "      <td>3</td>\n",
              "      <td>2</td>\n",
              "      <td>1</td>\n",
              "      <td>2</td>\n",
              "    </tr>\n",
              "    <tr>\n",
              "      <th>2</th>\n",
              "      <td>575</td>\n",
              "      <td>3</td>\n",
              "      <td>2</td>\n",
              "      <td>1</td>\n",
              "      <td>2</td>\n",
              "    </tr>\n",
              "  </tbody>\n",
              "</table>\n",
              "</div>"
            ],
            "text/plain": [
              "   unique_id  path_website  facebook  youtube  twitter\n",
              "0        573             4         2        2        2\n",
              "1        574             3         2        1        2\n",
              "2        575             3         2        1        2"
            ]
          },
          "metadata": {},
          "execution_count": 54
        }
      ]
    },
    {
      "cell_type": "code",
      "metadata": {
        "colab": {
          "base_uri": "https://localhost:8080/"
        },
        "id": "x2iA4cssHrUd",
        "outputId": "12ca4253-3ea8-40e8-b649-47cfdbb99a01"
      },
      "source": [
        "len(test.loc[test['twitter']==2])"
      ],
      "execution_count": null,
      "outputs": [
        {
          "output_type": "execute_result",
          "data": {
            "text/plain": [
              "414"
            ]
          },
          "metadata": {},
          "execution_count": 55
        }
      ]
    },
    {
      "cell_type": "code",
      "metadata": {
        "id": "EftaWO7pTBZa"
      },
      "source": [
        ""
      ],
      "execution_count": null,
      "outputs": []
    }
  ]
}