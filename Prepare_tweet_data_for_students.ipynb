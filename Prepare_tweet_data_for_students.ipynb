{
 "cells": [
  {
   "cell_type": "markdown",
   "id": "7f916587",
   "metadata": {},
   "source": [
    "# Préparation des data pour étudiants\n",
    "\n",
    "Les étudiants ont des difficultés de récupérer les tweets. Ce notebook a pour but de préparer des données propres et avec toutes les infos utiles, ainsi qu'un échantillonnage de tweets pour effectuer l'étude scattertext."
   ]
  },
  {
   "cell_type": "code",
   "execution_count": 5,
   "id": "321cae60",
   "metadata": {},
   "outputs": [],
   "source": [
    "import pandas as pd \n",
    "import pickle\n",
    "import re"
   ]
  },
  {
   "cell_type": "code",
   "execution_count": 3,
   "id": "c3b5a6c2",
   "metadata": {},
   "outputs": [
    {
     "name": "stdout",
     "output_type": "stream",
     "text": [
      "C:\\Users\\ManonRICHARD\\Documents\\PFE\\twitter-fakenews\\data\n"
     ]
    }
   ],
   "source": [
    "%cd ../../data"
   ]
  },
  {
   "cell_type": "markdown",
   "id": "d2f27d05",
   "metadata": {},
   "source": [
    "## Import des données"
   ]
  },
  {
   "cell_type": "markdown",
   "id": "3b923fd3",
   "metadata": {},
   "source": [
    "### Les sites decodex "
   ]
  },
  {
   "cell_type": "code",
   "execution_count": 6,
   "id": "31a3d8ea",
   "metadata": {},
   "outputs": [
    {
     "data": {
      "text/html": [
       "<div>\n",
       "<style scoped>\n",
       "    .dataframe tbody tr th:only-of-type {\n",
       "        vertical-align: middle;\n",
       "    }\n",
       "\n",
       "    .dataframe tbody tr th {\n",
       "        vertical-align: top;\n",
       "    }\n",
       "\n",
       "    .dataframe thead th {\n",
       "        text-align: right;\n",
       "    }\n",
       "</style>\n",
       "<table border=\"1\" class=\"dataframe\">\n",
       "  <thead>\n",
       "    <tr style=\"text-align: right;\">\n",
       "      <th></th>\n",
       "      <th>unique_id</th>\n",
       "      <th>liability</th>\n",
       "      <th>description</th>\n",
       "      <th>name</th>\n",
       "      <th>namelow</th>\n",
       "      <th>liability_label</th>\n",
       "      <th>path_website</th>\n",
       "      <th>twitter</th>\n",
       "    </tr>\n",
       "  </thead>\n",
       "  <tbody>\n",
       "    <tr>\n",
       "      <th>0</th>\n",
       "      <td>1982</td>\n",
       "      <td>2</td>\n",
       "      <td>France-Soir était un journal fondé par Pierre ...</td>\n",
       "      <td>France Soir</td>\n",
       "      <td>france-soir</td>\n",
       "      <td>site qui diffuse régulièrement de la fausse in...</td>\n",
       "      <td>france_soir</td>\n",
       "      <td>True</td>\n",
       "    </tr>\n",
       "    <tr>\n",
       "      <th>1</th>\n",
       "      <td>1981</td>\n",
       "      <td>2</td>\n",
       "      <td>Thierry Casasnovas, vidéaste et animateur de l...</td>\n",
       "      <td>Régénère (Thierry Casasnovas)</td>\n",
       "      <td>regenere-thierry-casasnovas</td>\n",
       "      <td>site qui diffuse régulièrement de la fausse in...</td>\n",
       "      <td>ThierryRegenere</td>\n",
       "      <td>True</td>\n",
       "    </tr>\n",
       "    <tr>\n",
       "      <th>2</th>\n",
       "      <td>1980</td>\n",
       "      <td>2</td>\n",
       "      <td>Silvano Trotta est le créateur d’une société s...</td>\n",
       "      <td>Silvano Trotta</td>\n",
       "      <td>silvano-trotta</td>\n",
       "      <td>site qui diffuse régulièrement de la fausse in...</td>\n",
       "      <td>silvano_trotta</td>\n",
       "      <td>True</td>\n",
       "    </tr>\n",
       "    <tr>\n",
       "      <th>3</th>\n",
       "      <td>1976</td>\n",
       "      <td>2</td>\n",
       "      <td>Cette propriétaire d’un magasin de chaussures ...</td>\n",
       "      <td>Ema Krusi</td>\n",
       "      <td>ema-krusi</td>\n",
       "      <td>site qui diffuse régulièrement de la fausse in...</td>\n",
       "      <td>emakrusi</td>\n",
       "      <td>True</td>\n",
       "    </tr>\n",
       "    <tr>\n",
       "      <th>4</th>\n",
       "      <td>1973</td>\n",
       "      <td>2</td>\n",
       "      <td>Salim Laïbi est un chirurgien-dentiste connu s...</td>\n",
       "      <td>Salim Laïbi (Le Libre Penseur)</td>\n",
       "      <td>salim-laibi-le-libre-penseur</td>\n",
       "      <td>site qui diffuse régulièrement de la fausse in...</td>\n",
       "      <td>llp_le_vrai</td>\n",
       "      <td>True</td>\n",
       "    </tr>\n",
       "  </tbody>\n",
       "</table>\n",
       "</div>"
      ],
      "text/plain": [
       "   unique_id  liability                                        description  \\\n",
       "0       1982          2  France-Soir était un journal fondé par Pierre ...   \n",
       "1       1981          2  Thierry Casasnovas, vidéaste et animateur de l...   \n",
       "2       1980          2  Silvano Trotta est le créateur d’une société s...   \n",
       "3       1976          2  Cette propriétaire d’un magasin de chaussures ...   \n",
       "4       1973          2  Salim Laïbi est un chirurgien-dentiste connu s...   \n",
       "\n",
       "                             name                       namelow  \\\n",
       "0                     France Soir                   france-soir   \n",
       "1   Régénère (Thierry Casasnovas)   regenere-thierry-casasnovas   \n",
       "2                  Silvano Trotta                silvano-trotta   \n",
       "3                       Ema Krusi                     ema-krusi   \n",
       "4  Salim Laïbi (Le Libre Penseur)  salim-laibi-le-libre-penseur   \n",
       "\n",
       "                                     liability_label     path_website  twitter  \n",
       "0  site qui diffuse régulièrement de la fausse in...      france_soir     True  \n",
       "1  site qui diffuse régulièrement de la fausse in...  ThierryRegenere     True  \n",
       "2  site qui diffuse régulièrement de la fausse in...   silvano_trotta     True  \n",
       "3  site qui diffuse régulièrement de la fausse in...         emakrusi     True  \n",
       "4  site qui diffuse régulièrement de la fausse in...      llp_le_vrai     True  "
      ]
     },
     "execution_count": 6,
     "metadata": {},
     "output_type": "execute_result"
    }
   ],
   "source": [
    "decodex_data = pd.read_csv(\"twitter_accounts_decodex.csv\", sep=\";\")\n",
    "\n",
    "decodex_data['path_website'] = decodex_data['path_website'].apply(lambda txt : re.sub('twitter.(com|fr)/', '', txt))\n",
    "decodex_data['path_website'] = decodex_data['path_website'].apply(lambda txt : re.sub(r'\\?lang=fr', '', txt))\n",
    "\n",
    "decodex_data.head()"
   ]
  },
  {
   "cell_type": "markdown",
   "id": "0bf554f3",
   "metadata": {},
   "source": [
    "### Les tweets"
   ]
  },
  {
   "cell_type": "code",
   "execution_count": 25,
   "id": "2ab5b722",
   "metadata": {},
   "outputs": [],
   "source": [
    "with open(\"tableauTweets.txt\", \"rb\") as file :   \n",
    "    tweets_all_accounts = pickle.load(file)"
   ]
  },
  {
   "cell_type": "code",
   "execution_count": 26,
   "id": "0608fe28",
   "metadata": {},
   "outputs": [
    {
     "data": {
      "text/html": [
       "<div>\n",
       "<style scoped>\n",
       "    .dataframe tbody tr th:only-of-type {\n",
       "        vertical-align: middle;\n",
       "    }\n",
       "\n",
       "    .dataframe tbody tr th {\n",
       "        vertical-align: top;\n",
       "    }\n",
       "\n",
       "    .dataframe thead th {\n",
       "        text-align: right;\n",
       "    }\n",
       "</style>\n",
       "<table border=\"1\" class=\"dataframe\">\n",
       "  <thead>\n",
       "    <tr style=\"text-align: right;\">\n",
       "      <th></th>\n",
       "      <th>user_id</th>\n",
       "      <th>user_screen_name</th>\n",
       "      <th>id_tweet</th>\n",
       "      <th>created_at</th>\n",
       "      <th>tweet</th>\n",
       "      <th>retweet_count</th>\n",
       "      <th>favorite_count</th>\n",
       "    </tr>\n",
       "  </thead>\n",
       "  <tbody>\n",
       "    <tr>\n",
       "      <th>0</th>\n",
       "      <td>78957336</td>\n",
       "      <td>france_soir</td>\n",
       "      <td>1466789582213681162</td>\n",
       "      <td>2021-12-03 15:21:02+00:00</td>\n",
       "      <td>🚨Le professeur Raoult écope d’un blâme de l’Or...</td>\n",
       "      <td>50</td>\n",
       "      <td>101</td>\n",
       "    </tr>\n",
       "    <tr>\n",
       "      <th>1</th>\n",
       "      <td>78957336</td>\n",
       "      <td>france_soir</td>\n",
       "      <td>1466768535921831946</td>\n",
       "      <td>2021-12-03 13:57:24+00:00</td>\n",
       "      <td>RT @DIVIZIO1: Recours déposé !</td>\n",
       "      <td>643</td>\n",
       "      <td>0</td>\n",
       "    </tr>\n",
       "    <tr>\n",
       "      <th>2</th>\n",
       "      <td>78957336</td>\n",
       "      <td>france_soir</td>\n",
       "      <td>1466757902773932035</td>\n",
       "      <td>2021-12-03 13:15:09+00:00</td>\n",
       "      <td>🎙BEST OF - Pr Michel Drancourt : IHU, épidémie...</td>\n",
       "      <td>27</td>\n",
       "      <td>59</td>\n",
       "    </tr>\n",
       "    <tr>\n",
       "      <th>3</th>\n",
       "      <td>78957336</td>\n",
       "      <td>france_soir</td>\n",
       "      <td>1466739848509890566</td>\n",
       "      <td>2021-12-03 12:03:25+00:00</td>\n",
       "      <td>📚 Jonathan Curiel, directeur général adjoint d...</td>\n",
       "      <td>14</td>\n",
       "      <td>37</td>\n",
       "    </tr>\n",
       "    <tr>\n",
       "      <th>4</th>\n",
       "      <td>78957336</td>\n",
       "      <td>france_soir</td>\n",
       "      <td>1466731706912751619</td>\n",
       "      <td>2021-12-03 11:31:04+00:00</td>\n",
       "      <td>🖍 Le dessin du jour\\n&amp;gt; à retrouver sur http...</td>\n",
       "      <td>39</td>\n",
       "      <td>79</td>\n",
       "    </tr>\n",
       "  </tbody>\n",
       "</table>\n",
       "</div>"
      ],
      "text/plain": [
       "    user_id user_screen_name             id_tweet                created_at  \\\n",
       "0  78957336      france_soir  1466789582213681162 2021-12-03 15:21:02+00:00   \n",
       "1  78957336      france_soir  1466768535921831946 2021-12-03 13:57:24+00:00   \n",
       "2  78957336      france_soir  1466757902773932035 2021-12-03 13:15:09+00:00   \n",
       "3  78957336      france_soir  1466739848509890566 2021-12-03 12:03:25+00:00   \n",
       "4  78957336      france_soir  1466731706912751619 2021-12-03 11:31:04+00:00   \n",
       "\n",
       "                                               tweet  retweet_count  \\\n",
       "0  🚨Le professeur Raoult écope d’un blâme de l’Or...             50   \n",
       "1                     RT @DIVIZIO1: Recours déposé !            643   \n",
       "2  🎙BEST OF - Pr Michel Drancourt : IHU, épidémie...             27   \n",
       "3  📚 Jonathan Curiel, directeur général adjoint d...             14   \n",
       "4  🖍 Le dessin du jour\\n&gt; à retrouver sur http...             39   \n",
       "\n",
       "   favorite_count  \n",
       "0             101  \n",
       "1               0  \n",
       "2              59  \n",
       "3              37  \n",
       "4              79  "
      ]
     },
     "execution_count": 26,
     "metadata": {},
     "output_type": "execute_result"
    }
   ],
   "source": [
    "tweets_all_accounts.head()"
   ]
  },
  {
   "cell_type": "code",
   "execution_count": 27,
   "id": "ea300575",
   "metadata": {},
   "outputs": [],
   "source": [
    "tweets_all_accounts = tweets_all_accounts.drop_duplicates([\"id_tweet\"])\n",
    "# je pense que des doublons ce sont créés à cause des rate limit reached, wait for ... \n",
    "# car l'algo semble reprendre la récupération du début "
   ]
  },
  {
   "cell_type": "code",
   "execution_count": 28,
   "id": "eb2e6fa1",
   "metadata": {},
   "outputs": [
    {
     "data": {
      "text/plain": [
       "(1072363, 7)"
      ]
     },
     "execution_count": 28,
     "metadata": {},
     "output_type": "execute_result"
    }
   ],
   "source": [
    "tweets_all_accounts.shape"
   ]
  },
  {
   "cell_type": "markdown",
   "id": "882a09a2",
   "metadata": {},
   "source": [
    "### Nombre de followers par compte"
   ]
  },
  {
   "cell_type": "code",
   "execution_count": 14,
   "id": "ce1e3e57",
   "metadata": {},
   "outputs": [],
   "source": [
    "df_followers_count = pd.read_csv(\"df_followers_count_by_user.csv\", sep=\";\", encoding='UTF-8')"
   ]
  },
  {
   "cell_type": "code",
   "execution_count": 15,
   "id": "57c25f65",
   "metadata": {},
   "outputs": [
    {
     "data": {
      "text/html": [
       "<div>\n",
       "<style scoped>\n",
       "    .dataframe tbody tr th:only-of-type {\n",
       "        vertical-align: middle;\n",
       "    }\n",
       "\n",
       "    .dataframe tbody tr th {\n",
       "        vertical-align: top;\n",
       "    }\n",
       "\n",
       "    .dataframe thead th {\n",
       "        text-align: right;\n",
       "    }\n",
       "</style>\n",
       "<table border=\"1\" class=\"dataframe\">\n",
       "  <thead>\n",
       "    <tr style=\"text-align: right;\">\n",
       "      <th></th>\n",
       "      <th>screen_name</th>\n",
       "      <th>count_followers</th>\n",
       "    </tr>\n",
       "  </thead>\n",
       "  <tbody>\n",
       "    <tr>\n",
       "      <th>0</th>\n",
       "      <td>france_soir</td>\n",
       "      <td>98322</td>\n",
       "    </tr>\n",
       "    <tr>\n",
       "      <th>1</th>\n",
       "      <td>ThierryRegenere</td>\n",
       "      <td>1967</td>\n",
       "    </tr>\n",
       "    <tr>\n",
       "      <th>2</th>\n",
       "      <td>emakrusi</td>\n",
       "      <td>46639</td>\n",
       "    </tr>\n",
       "  </tbody>\n",
       "</table>\n",
       "</div>"
      ],
      "text/plain": [
       "       screen_name  count_followers\n",
       "0      france_soir            98322\n",
       "1  ThierryRegenere             1967\n",
       "2         emakrusi            46639"
      ]
     },
     "execution_count": 15,
     "metadata": {},
     "output_type": "execute_result"
    }
   ],
   "source": [
    "df_followers_count.head(3)"
   ]
  },
  {
   "cell_type": "markdown",
   "id": "c6c370a4",
   "metadata": {},
   "source": [
    "## Jointure"
   ]
  },
  {
   "cell_type": "code",
   "execution_count": 29,
   "id": "f78626ea",
   "metadata": {},
   "outputs": [],
   "source": [
    "tweets_all_accounts = pd.merge(tweets_all_accounts, decodex_data, left_on=\"user_screen_name\", right_on=\"path_website\")\n",
    "tweets_all_accounts = pd.merge(tweets_all_accounts, df_followers_count, left_on=\"user_screen_name\", right_on=\"screen_name\")"
   ]
  },
  {
   "cell_type": "code",
   "execution_count": 30,
   "id": "24790834",
   "metadata": {},
   "outputs": [],
   "source": [
    "tweets_all_accounts = tweets_all_accounts.drop([\"unique_id\",\"path_website\",\"twitter\",\"screen_name\",\"namelow\",\"name\"], axis=1)"
   ]
  },
  {
   "cell_type": "code",
   "execution_count": 31,
   "id": "4796b68e",
   "metadata": {},
   "outputs": [
    {
     "data": {
      "text/html": [
       "<div>\n",
       "<style scoped>\n",
       "    .dataframe tbody tr th:only-of-type {\n",
       "        vertical-align: middle;\n",
       "    }\n",
       "\n",
       "    .dataframe tbody tr th {\n",
       "        vertical-align: top;\n",
       "    }\n",
       "\n",
       "    .dataframe thead th {\n",
       "        text-align: right;\n",
       "    }\n",
       "</style>\n",
       "<table border=\"1\" class=\"dataframe\">\n",
       "  <thead>\n",
       "    <tr style=\"text-align: right;\">\n",
       "      <th></th>\n",
       "      <th>user_id</th>\n",
       "      <th>user_screen_name</th>\n",
       "      <th>id_tweet</th>\n",
       "      <th>created_at</th>\n",
       "      <th>tweet</th>\n",
       "      <th>retweet_count</th>\n",
       "      <th>favorite_count</th>\n",
       "      <th>liability</th>\n",
       "      <th>description</th>\n",
       "      <th>liability_label</th>\n",
       "      <th>count_followers</th>\n",
       "    </tr>\n",
       "  </thead>\n",
       "  <tbody>\n",
       "    <tr>\n",
       "      <th>0</th>\n",
       "      <td>78957336</td>\n",
       "      <td>france_soir</td>\n",
       "      <td>1466789582213681162</td>\n",
       "      <td>2021-12-03 15:21:02+00:00</td>\n",
       "      <td>🚨Le professeur Raoult écope d’un blâme de l’Or...</td>\n",
       "      <td>50</td>\n",
       "      <td>101</td>\n",
       "      <td>2</td>\n",
       "      <td>France-Soir était un journal fondé par Pierre ...</td>\n",
       "      <td>site qui diffuse régulièrement de la fausse in...</td>\n",
       "      <td>98322</td>\n",
       "    </tr>\n",
       "    <tr>\n",
       "      <th>1</th>\n",
       "      <td>78957336</td>\n",
       "      <td>france_soir</td>\n",
       "      <td>1466768535921831946</td>\n",
       "      <td>2021-12-03 13:57:24+00:00</td>\n",
       "      <td>RT @DIVIZIO1: Recours déposé !</td>\n",
       "      <td>643</td>\n",
       "      <td>0</td>\n",
       "      <td>2</td>\n",
       "      <td>France-Soir était un journal fondé par Pierre ...</td>\n",
       "      <td>site qui diffuse régulièrement de la fausse in...</td>\n",
       "      <td>98322</td>\n",
       "    </tr>\n",
       "    <tr>\n",
       "      <th>2</th>\n",
       "      <td>78957336</td>\n",
       "      <td>france_soir</td>\n",
       "      <td>1466757902773932035</td>\n",
       "      <td>2021-12-03 13:15:09+00:00</td>\n",
       "      <td>🎙BEST OF - Pr Michel Drancourt : IHU, épidémie...</td>\n",
       "      <td>27</td>\n",
       "      <td>59</td>\n",
       "      <td>2</td>\n",
       "      <td>France-Soir était un journal fondé par Pierre ...</td>\n",
       "      <td>site qui diffuse régulièrement de la fausse in...</td>\n",
       "      <td>98322</td>\n",
       "    </tr>\n",
       "  </tbody>\n",
       "</table>\n",
       "</div>"
      ],
      "text/plain": [
       "    user_id user_screen_name             id_tweet                created_at  \\\n",
       "0  78957336      france_soir  1466789582213681162 2021-12-03 15:21:02+00:00   \n",
       "1  78957336      france_soir  1466768535921831946 2021-12-03 13:57:24+00:00   \n",
       "2  78957336      france_soir  1466757902773932035 2021-12-03 13:15:09+00:00   \n",
       "\n",
       "                                               tweet  retweet_count  \\\n",
       "0  🚨Le professeur Raoult écope d’un blâme de l’Or...             50   \n",
       "1                     RT @DIVIZIO1: Recours déposé !            643   \n",
       "2  🎙BEST OF - Pr Michel Drancourt : IHU, épidémie...             27   \n",
       "\n",
       "   favorite_count  liability  \\\n",
       "0             101          2   \n",
       "1               0          2   \n",
       "2              59          2   \n",
       "\n",
       "                                         description  \\\n",
       "0  France-Soir était un journal fondé par Pierre ...   \n",
       "1  France-Soir était un journal fondé par Pierre ...   \n",
       "2  France-Soir était un journal fondé par Pierre ...   \n",
       "\n",
       "                                     liability_label  count_followers  \n",
       "0  site qui diffuse régulièrement de la fausse in...            98322  \n",
       "1  site qui diffuse régulièrement de la fausse in...            98322  \n",
       "2  site qui diffuse régulièrement de la fausse in...            98322  "
      ]
     },
     "execution_count": 31,
     "metadata": {},
     "output_type": "execute_result"
    }
   ],
   "source": [
    "tweets_all_accounts.head(3)"
   ]
  },
  {
   "cell_type": "code",
   "execution_count": 32,
   "id": "1e5ee6a0",
   "metadata": {},
   "outputs": [
    {
     "data": {
      "text/plain": [
       "count                  926188\n",
       "unique                 926188\n",
       "top       1466789582213681162\n",
       "freq                        1\n",
       "Name: id_tweet, dtype: object"
      ]
     },
     "execution_count": 32,
     "metadata": {},
     "output_type": "execute_result"
    }
   ],
   "source": [
    "tweets_all_accounts.id_tweet = tweets_all_accounts.id_tweet.astype('str')\n",
    "tweets_all_accounts.id_tweet.describe()"
   ]
  },
  {
   "cell_type": "markdown",
   "id": "58f6d26f",
   "metadata": {},
   "source": [
    "### Export des données"
   ]
  },
  {
   "cell_type": "code",
   "execution_count": 34,
   "id": "b543b647",
   "metadata": {},
   "outputs": [],
   "source": [
    "with open(\"data_tweets.txt\", \"wb\") as fp :   #Pickling\n",
    "    pickle.dump(tweets_all_accounts, fp)"
   ]
  },
  {
   "cell_type": "code",
   "execution_count": null,
   "id": "1718f398",
   "metadata": {},
   "outputs": [],
   "source": [
    "with open(\"data_tweets.txt\", \"rb\") as file :   \n",
    "    data_tweets = pickle.load(file)"
   ]
  },
  {
   "cell_type": "code",
   "execution_count": null,
   "id": "d70a0128",
   "metadata": {},
   "outputs": [],
   "source": []
  },
  {
   "cell_type": "markdown",
   "id": "f8fdd24c",
   "metadata": {},
   "source": [
    "### Echantillon des données"
   ]
  },
  {
   "cell_type": "code",
   "execution_count": null,
   "id": "9d3c5bb6",
   "metadata": {},
   "outputs": [],
   "source": []
  },
  {
   "cell_type": "code",
   "execution_count": null,
   "id": "1faaa571",
   "metadata": {},
   "outputs": [],
   "source": []
  }
 ],
 "metadata": {
  "kernelspec": {
   "display_name": "Python 3 (ipykernel)",
   "language": "python",
   "name": "python3"
  },
  "language_info": {
   "codemirror_mode": {
    "name": "ipython",
    "version": 3
   },
   "file_extension": ".py",
   "mimetype": "text/x-python",
   "name": "python",
   "nbconvert_exporter": "python",
   "pygments_lexer": "ipython3",
   "version": "3.7.11"
  }
 },
 "nbformat": 4,
 "nbformat_minor": 5
}
