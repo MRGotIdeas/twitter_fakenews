{
 "cells": [
  {
   "cell_type": "markdown",
   "id": "dedc045a",
   "metadata": {},
   "source": [
    "# Analyse descriptive\n",
    "\n",
    "Regarder la différence de vocabulaires entre les sites de fakenews et les sites fiables"
   ]
  },
  {
   "cell_type": "code",
   "execution_count": null,
   "id": "9a6b72a6",
   "metadata": {},
   "outputs": [],
   "source": [
    "%pip install seaborn"
   ]
  },
  {
   "cell_type": "code",
   "execution_count": 1,
   "id": "3009d084",
   "metadata": {},
   "outputs": [],
   "source": [
    "import pandas as pd \n",
    "import pickle\n",
    "\n",
    "import re\n",
    "import scattertext as sc\n",
    "\n",
    "import seaborn as sns\n",
    "import matplotlib.pyplot as plt"
   ]
  },
  {
   "cell_type": "code",
   "execution_count": 2,
   "id": "138f8217",
   "metadata": {},
   "outputs": [],
   "source": [
    "sns.set_theme()"
   ]
  },
  {
   "cell_type": "code",
   "execution_count": 3,
   "id": "b4a1114d",
   "metadata": {},
   "outputs": [
    {
     "name": "stdout",
     "output_type": "stream",
     "text": [
      "C:\\Users\\ManonRICHARD\\Documents\\PFE\\twitter-fakenews\\data\n"
     ]
    }
   ],
   "source": [
    "%cd ../../data"
   ]
  },
  {
   "cell_type": "markdown",
   "id": "be4a4823",
   "metadata": {},
   "source": [
    "### Import des données"
   ]
  },
  {
   "cell_type": "markdown",
   "id": "e01518c4",
   "metadata": {},
   "source": [
    "#### Sites"
   ]
  },
  {
   "cell_type": "code",
   "execution_count": null,
   "id": "1240641c",
   "metadata": {},
   "outputs": [],
   "source": [
    "decodex_data = pd.read_csv(\"twitter_accounts_decodex.csv\", sep=\";\")\n",
    "\n",
    "decodex_data['path_website'] = decodex_data['path_website'].apply(lambda txt : re.sub('twitter.(com|fr)/', '', txt))\n",
    "decodex_data['path_website'] = decodex_data['path_website'].apply(lambda txt : re.sub(r'\\?lang=fr', '', txt))\n",
    "\n",
    "decodex_data.head()"
   ]
  },
  {
   "cell_type": "code",
   "execution_count": null,
   "id": "774648f8",
   "metadata": {},
   "outputs": [],
   "source": [
    "decodex_data.loc[decodex_data[\"path_website\"]==\"wikiHow\"]"
   ]
  },
  {
   "cell_type": "markdown",
   "id": "a40e7c9d",
   "metadata": {},
   "source": [
    "#### Données tweet"
   ]
  },
  {
   "cell_type": "code",
   "execution_count": 6,
   "id": "855eb85c",
   "metadata": {},
   "outputs": [],
   "source": [
    "with open(\"tweets_all_accounts.txt\", \"rb\") as file :   \n",
    "    tweets_all_accounts = pickle.load(file)"
   ]
  },
  {
   "cell_type": "code",
   "execution_count": null,
   "id": "ebdea686",
   "metadata": {},
   "outputs": [],
   "source": [
    "tweets_all_accounts.head()"
   ]
  },
  {
   "cell_type": "code",
   "execution_count": 8,
   "id": "7caec543",
   "metadata": {},
   "outputs": [
    {
     "data": {
      "text/plain": [
       "1020089"
      ]
     },
     "execution_count": 8,
     "metadata": {},
     "output_type": "execute_result"
    }
   ],
   "source": [
    "len(tweets_all_accounts)"
   ]
  },
  {
   "cell_type": "code",
   "execution_count": 9,
   "id": "210fd79f",
   "metadata": {},
   "outputs": [
    {
     "data": {
      "text/plain": [
       "271"
      ]
     },
     "execution_count": 9,
     "metadata": {},
     "output_type": "execute_result"
    }
   ],
   "source": [
    "len(tweets_all_accounts.loc[tweets_all_accounts['user']==\"covid_infos\"])"
   ]
  },
  {
   "cell_type": "code",
   "execution_count": null,
   "id": "2dd6e50a",
   "metadata": {},
   "outputs": [],
   "source": [
    "tt = tweets_all_accounts.groupby(\"id\").count().reset_index()\n",
    "tt.loc[tt.user > 1]\n",
    "#tweets_all_accounts.loc[tweets_all_accounts[\"id\"]==\"1000013862027038721\"]\n",
    "tweets_all_accounts.loc[tweets_all_accounts[\"id\"]==\"1000681833854636033\"]"
   ]
  },
  {
   "cell_type": "code",
   "execution_count": 11,
   "id": "fd6b45cf",
   "metadata": {
    "scrolled": true
   },
   "outputs": [],
   "source": [
    "tweets_all_accounts = tweets_all_accounts.drop_duplicates([\"id\"])\n",
    "# je pense que des doublons ce sont créés à cause des rate limit reached, wait for ... \n",
    "# car l'algo semble reprendre la récupération du début "
   ]
  },
  {
   "cell_type": "code",
   "execution_count": 12,
   "id": "6b03afd0",
   "metadata": {},
   "outputs": [
    {
     "data": {
      "text/plain": [
       "count                  924807\n",
       "unique                 924807\n",
       "top       1459580807790665732\n",
       "freq                        1\n",
       "Name: id, dtype: object"
      ]
     },
     "execution_count": 12,
     "metadata": {},
     "output_type": "execute_result"
    }
   ],
   "source": [
    "tweets_all_accounts.id.describe()"
   ]
  },
  {
   "cell_type": "code",
   "execution_count": 13,
   "id": "b2a71161",
   "metadata": {},
   "outputs": [
    {
     "data": {
      "text/plain": [
       "2573"
      ]
     },
     "execution_count": 13,
     "metadata": {},
     "output_type": "execute_result"
    }
   ],
   "source": [
    "len(tweets_all_accounts.loc[tweets_all_accounts[\"user\"]==\"Les_Repliques\"])"
   ]
  },
  {
   "cell_type": "markdown",
   "id": "c762d434",
   "metadata": {},
   "source": [
    "#### nombre de followers par user"
   ]
  },
  {
   "cell_type": "code",
   "execution_count": 14,
   "id": "9ebf359b",
   "metadata": {},
   "outputs": [],
   "source": [
    "df_followers_count = pd.read_csv(\"df_followers_count_by_user.csv\", sep=\";\", encoding='UTF-8')"
   ]
  },
  {
   "cell_type": "code",
   "execution_count": 15,
   "id": "91a644fe",
   "metadata": {},
   "outputs": [
    {
     "data": {
      "text/html": [
       "<div>\n",
       "<style scoped>\n",
       "    .dataframe tbody tr th:only-of-type {\n",
       "        vertical-align: middle;\n",
       "    }\n",
       "\n",
       "    .dataframe tbody tr th {\n",
       "        vertical-align: top;\n",
       "    }\n",
       "\n",
       "    .dataframe thead th {\n",
       "        text-align: right;\n",
       "    }\n",
       "</style>\n",
       "<table border=\"1\" class=\"dataframe\">\n",
       "  <thead>\n",
       "    <tr style=\"text-align: right;\">\n",
       "      <th></th>\n",
       "      <th>screen_name</th>\n",
       "      <th>count_followers</th>\n",
       "    </tr>\n",
       "  </thead>\n",
       "  <tbody>\n",
       "    <tr>\n",
       "      <th>0</th>\n",
       "      <td>france_soir</td>\n",
       "      <td>98322</td>\n",
       "    </tr>\n",
       "    <tr>\n",
       "      <th>1</th>\n",
       "      <td>ThierryRegenere</td>\n",
       "      <td>1967</td>\n",
       "    </tr>\n",
       "    <tr>\n",
       "      <th>2</th>\n",
       "      <td>emakrusi</td>\n",
       "      <td>46639</td>\n",
       "    </tr>\n",
       "  </tbody>\n",
       "</table>\n",
       "</div>"
      ],
      "text/plain": [
       "       screen_name  count_followers\n",
       "0      france_soir            98322\n",
       "1  ThierryRegenere             1967\n",
       "2         emakrusi            46639"
      ]
     },
     "execution_count": 15,
     "metadata": {},
     "output_type": "execute_result"
    }
   ],
   "source": [
    "df_followers_count.head(3)"
   ]
  },
  {
   "cell_type": "markdown",
   "id": "f48d8d23",
   "metadata": {},
   "source": [
    "#### Jointure "
   ]
  },
  {
   "cell_type": "code",
   "execution_count": 16,
   "id": "6064e85e",
   "metadata": {},
   "outputs": [],
   "source": [
    "tweets_all_accounts = pd.merge(tweets_all_accounts, decodex_data, left_on=\"user\", right_on=\"path_website\")\n",
    "tweets_all_accounts = pd.merge(tweets_all_accounts, df_followers_count, left_on=\"user\", right_on=\"screen_name\")"
   ]
  },
  {
   "cell_type": "code",
   "execution_count": null,
   "id": "eaf7fab4",
   "metadata": {},
   "outputs": [],
   "source": [
    "tweets_all_accounts = tweets_all_accounts.drop([\"path_website\",\"twitter\",\"screen_name\",\"namelow\",\"name\"], axis=1)"
   ]
  },
  {
   "cell_type": "code",
   "execution_count": null,
   "id": "d698718b",
   "metadata": {},
   "outputs": [],
   "source": [
    "tweets_all_accounts.head(4)"
   ]
  },
  {
   "cell_type": "code",
   "execution_count": 19,
   "id": "ee553588",
   "metadata": {},
   "outputs": [
    {
     "data": {
      "text/plain": [
       "count                  802703\n",
       "unique                 802703\n",
       "top       1459580807790665732\n",
       "freq                        1\n",
       "Name: id, dtype: object"
      ]
     },
     "execution_count": 19,
     "metadata": {},
     "output_type": "execute_result"
    }
   ],
   "source": [
    "tweets_all_accounts.id.describe()"
   ]
  },
  {
   "cell_type": "code",
   "execution_count": 20,
   "id": "8d9f106f",
   "metadata": {},
   "outputs": [],
   "source": [
    "with open(\"data_tweets.txt\", \"rb\") as file :   \n",
    "    tweets_all_accounts = pickle.load(file)"
   ]
  },
  {
   "cell_type": "code",
   "execution_count": null,
   "id": "f06d8159",
   "metadata": {},
   "outputs": [],
   "source": [
    "tweets_all_accounts.head()"
   ]
  },
  {
   "cell_type": "code",
   "execution_count": 22,
   "id": "e4c32c77",
   "metadata": {},
   "outputs": [
    {
     "data": {
      "text/plain": [
       "0                                   🚨Le professeur Raoult écope d’un blâme de l’Ordre des médecins. Article à paraître sur https://t.co/ZHHIMMy5I6\n",
       "1                                                                                                                   RT @DIVIZIO1: Recours déposé !\n",
       "2    🎙BEST OF - Pr Michel Drancourt : IHU, épidémies d'hier et d'aujourd'hui\\nComment la \"paléomicrobiologie\" permet d'ac… https://t.co/6360Sgv9qJ\n",
       "3     📚 Jonathan Curiel, directeur général adjoint des programmes des chaînes M6, W9 et 6ter, a publié en octobre 2021 so… https://t.co/wrnClfvtFW\n",
       "4                                                        🖍 Le dessin du jour\\n&gt; à retrouver sur https://t.co/08c1W3ouuM https://t.co/L3AcXkkb7d\n",
       "Name: tweet, dtype: object"
      ]
     },
     "execution_count": 22,
     "metadata": {},
     "output_type": "execute_result"
    }
   ],
   "source": [
    "pd.set_option(\"max_colwidth\", None)\n",
    "tweets_all_accounts[\"tweet\"].head()"
   ]
  },
  {
   "cell_type": "markdown",
   "id": "fe78f417",
   "metadata": {},
   "source": [
    "### Analyse descriptive"
   ]
  },
  {
   "cell_type": "code",
   "execution_count": 23,
   "id": "fb31a285",
   "metadata": {},
   "outputs": [
    {
     "name": "stdout",
     "output_type": "stream",
     "text": [
      "<class 'pandas.core.frame.DataFrame'>\n",
      "Int64Index: 926188 entries, 0 to 926187\n",
      "Data columns (total 11 columns):\n",
      " #   Column            Non-Null Count   Dtype              \n",
      "---  ------            --------------   -----              \n",
      " 0   user_id           926188 non-null  int64              \n",
      " 1   user_screen_name  926188 non-null  object             \n",
      " 2   id_tweet          926188 non-null  object             \n",
      " 3   created_at        926188 non-null  datetime64[ns, UTC]\n",
      " 4   tweet             926188 non-null  object             \n",
      " 5   retweet_count     926188 non-null  int64              \n",
      " 6   favorite_count    926188 non-null  int64              \n",
      " 7   liability         926188 non-null  int64              \n",
      " 8   description       926188 non-null  object             \n",
      " 9   liability_label   926188 non-null  object             \n",
      " 10  count_followers   926188 non-null  int64              \n",
      "dtypes: datetime64[ns, UTC](1), int64(5), object(5)\n",
      "memory usage: 84.8+ MB\n"
     ]
    }
   ],
   "source": [
    "# Check for NAs\n",
    "tweets_all_accounts.info()"
   ]
  },
  {
   "cell_type": "code",
   "execution_count": 24,
   "id": "b40898da",
   "metadata": {},
   "outputs": [],
   "source": [
    "tweets_all_accounts['favorite_count'] = tweets_all_accounts['favorite_count'].astype('int')\n",
    "tweets_all_accounts['retweet_count'] = tweets_all_accounts['retweet_count'].astype('int')"
   ]
  },
  {
   "cell_type": "code",
   "execution_count": 25,
   "id": "4cccb0c8",
   "metadata": {},
   "outputs": [
    {
     "data": {
      "text/plain": [
       "liability_label\n",
       "site parodique                                              31\n",
       "site qui diffuse régulièrement de la fausse information     52\n",
       "site réputé fiable                                         201\n",
       "site à la fiabilité douteuse                                39\n",
       "Name: user_id, dtype: int64"
      ]
     },
     "execution_count": 25,
     "metadata": {},
     "output_type": "execute_result"
    }
   ],
   "source": [
    "# Nombre de comptes twitter effectivement récupérés par label\n",
    "tweets_all_accounts.groupby([\"liability_label\"]).user_id.nunique()"
   ]
  },
  {
   "cell_type": "code",
   "execution_count": 26,
   "id": "b67086c0",
   "metadata": {},
   "outputs": [
    {
     "data": {
      "text/plain": [
       "liability_label\n",
       "site parodique                                              51506\n",
       "site qui diffuse régulièrement de la fausse information    133675\n",
       "site réputé fiable                                         632999\n",
       "site à la fiabilité douteuse                               108008\n",
       "Name: id_tweet, dtype: int64"
      ]
     },
     "execution_count": 26,
     "metadata": {},
     "output_type": "execute_result"
    }
   ],
   "source": [
    "# Nombre de tweets par label \n",
    "tweets_all_accounts.groupby([\"liability_label\"]).id_tweet.size()"
   ]
  },
  {
   "cell_type": "code",
   "execution_count": 27,
   "id": "ee06f3d1",
   "metadata": {},
   "outputs": [
    {
     "data": {
      "text/plain": [
       "2271.025641025641"
      ]
     },
     "execution_count": 27,
     "metadata": {},
     "output_type": "execute_result"
    }
   ],
   "source": [
    "557943/201 #2776 tweet / sites fiables\n",
    "109697/52 # 2109 tweet/sites qui diffuse souvent fake news\n",
    "88570/39 # 2271 tweet / sites fiabilité douteuse"
   ]
  },
  {
   "cell_type": "code",
   "execution_count": 28,
   "id": "68dd1e9c",
   "metadata": {},
   "outputs": [
    {
     "data": {
      "text/html": [
       "<div>\n",
       "<style scoped>\n",
       "    .dataframe tbody tr th:only-of-type {\n",
       "        vertical-align: middle;\n",
       "    }\n",
       "\n",
       "    .dataframe tbody tr th {\n",
       "        vertical-align: top;\n",
       "    }\n",
       "\n",
       "    .dataframe thead th {\n",
       "        text-align: right;\n",
       "    }\n",
       "</style>\n",
       "<table border=\"1\" class=\"dataframe\">\n",
       "  <thead>\n",
       "    <tr style=\"text-align: right;\">\n",
       "      <th></th>\n",
       "      <th>count</th>\n",
       "      <th>mean</th>\n",
       "      <th>std</th>\n",
       "      <th>min</th>\n",
       "      <th>25%</th>\n",
       "      <th>50%</th>\n",
       "      <th>75%</th>\n",
       "      <th>max</th>\n",
       "    </tr>\n",
       "    <tr>\n",
       "      <th>liability_label</th>\n",
       "      <th></th>\n",
       "      <th></th>\n",
       "      <th></th>\n",
       "      <th></th>\n",
       "      <th></th>\n",
       "      <th></th>\n",
       "      <th></th>\n",
       "      <th></th>\n",
       "    </tr>\n",
       "  </thead>\n",
       "  <tbody>\n",
       "    <tr>\n",
       "      <th>site parodique</th>\n",
       "      <td>51506.0</td>\n",
       "      <td>1.805856e+05</td>\n",
       "      <td>3.561316e+05</td>\n",
       "      <td>18.0</td>\n",
       "      <td>6376.0</td>\n",
       "      <td>26952.0</td>\n",
       "      <td>147411.0</td>\n",
       "      <td>1347330.0</td>\n",
       "    </tr>\n",
       "    <tr>\n",
       "      <th>site qui diffuse régulièrement de la fausse information</th>\n",
       "      <td>133675.0</td>\n",
       "      <td>2.745449e+04</td>\n",
       "      <td>4.904187e+04</td>\n",
       "      <td>3.0</td>\n",
       "      <td>2349.0</td>\n",
       "      <td>7523.0</td>\n",
       "      <td>27526.0</td>\n",
       "      <td>258276.0</td>\n",
       "    </tr>\n",
       "    <tr>\n",
       "      <th>site réputé fiable</th>\n",
       "      <td>632999.0</td>\n",
       "      <td>1.938326e+06</td>\n",
       "      <td>6.318569e+06</td>\n",
       "      <td>119.0</td>\n",
       "      <td>53505.0</td>\n",
       "      <td>224069.0</td>\n",
       "      <td>1228261.0</td>\n",
       "      <td>55502385.0</td>\n",
       "    </tr>\n",
       "    <tr>\n",
       "      <th>site à la fiabilité douteuse</th>\n",
       "      <td>108008.0</td>\n",
       "      <td>9.683503e+05</td>\n",
       "      <td>3.520828e+06</td>\n",
       "      <td>184.0</td>\n",
       "      <td>10281.0</td>\n",
       "      <td>26693.0</td>\n",
       "      <td>164065.0</td>\n",
       "      <td>20468144.0</td>\n",
       "    </tr>\n",
       "  </tbody>\n",
       "</table>\n",
       "</div>"
      ],
      "text/plain": [
       "                                                            count  \\\n",
       "liability_label                                                     \n",
       "site parodique                                            51506.0   \n",
       "site qui diffuse régulièrement de la fausse information  133675.0   \n",
       "site réputé fiable                                       632999.0   \n",
       "site à la fiabilité douteuse                             108008.0   \n",
       "\n",
       "                                                                 mean  \\\n",
       "liability_label                                                         \n",
       "site parodique                                           1.805856e+05   \n",
       "site qui diffuse régulièrement de la fausse information  2.745449e+04   \n",
       "site réputé fiable                                       1.938326e+06   \n",
       "site à la fiabilité douteuse                             9.683503e+05   \n",
       "\n",
       "                                                                  std    min  \\\n",
       "liability_label                                                                \n",
       "site parodique                                           3.561316e+05   18.0   \n",
       "site qui diffuse régulièrement de la fausse information  4.904187e+04    3.0   \n",
       "site réputé fiable                                       6.318569e+06  119.0   \n",
       "site à la fiabilité douteuse                             3.520828e+06  184.0   \n",
       "\n",
       "                                                             25%       50%  \\\n",
       "liability_label                                                              \n",
       "site parodique                                            6376.0   26952.0   \n",
       "site qui diffuse régulièrement de la fausse information   2349.0    7523.0   \n",
       "site réputé fiable                                       53505.0  224069.0   \n",
       "site à la fiabilité douteuse                             10281.0   26693.0   \n",
       "\n",
       "                                                               75%         max  \n",
       "liability_label                                                                 \n",
       "site parodique                                            147411.0   1347330.0  \n",
       "site qui diffuse régulièrement de la fausse information    27526.0    258276.0  \n",
       "site réputé fiable                                       1228261.0  55502385.0  \n",
       "site à la fiabilité douteuse                              164065.0  20468144.0  "
      ]
     },
     "execution_count": 28,
     "metadata": {},
     "output_type": "execute_result"
    }
   ],
   "source": [
    "# Nombre de followers par label \n",
    "tweets_all_accounts.groupby([\"liability_label\"]).count_followers.describe()"
   ]
  },
  {
   "cell_type": "code",
   "execution_count": 29,
   "id": "c67d634d",
   "metadata": {},
   "outputs": [
    {
     "name": "stdout",
     "output_type": "stream",
     "text": [
      "323\n"
     ]
    },
    {
     "data": {
      "image/png": "[encoded data removed]",
      "text/plain": [
       "<Figure size 432x288 with 1 Axes>"
      ]
     },
     "metadata": {},
     "output_type": "display_data"
    }
   ],
   "source": [
    "df_sites = tweets_all_accounts[[\"liability_label\",\"user_screen_name\", \"count_followers\"]].copy()\n",
    "df_sites = df_sites.drop_duplicates()\n",
    "print(len(df_sites))\n",
    "\n",
    "sns.boxplot(data=df_sites, y=\"liability_label\",x=\"count_followers\", showfliers=False)\n",
    "plt.show()"
   ]
  },
  {
   "cell_type": "code",
   "execution_count": 30,
   "id": "86176937",
   "metadata": {},
   "outputs": [
    {
     "data": {
      "text/html": [
       "<div>\n",
       "<style scoped>\n",
       "    .dataframe tbody tr th:only-of-type {\n",
       "        vertical-align: middle;\n",
       "    }\n",
       "\n",
       "    .dataframe tbody tr th {\n",
       "        vertical-align: top;\n",
       "    }\n",
       "\n",
       "    .dataframe thead th {\n",
       "        text-align: right;\n",
       "    }\n",
       "</style>\n",
       "<table border=\"1\" class=\"dataframe\">\n",
       "  <thead>\n",
       "    <tr style=\"text-align: right;\">\n",
       "      <th></th>\n",
       "      <th>count</th>\n",
       "      <th>mean</th>\n",
       "      <th>std</th>\n",
       "      <th>min</th>\n",
       "      <th>25%</th>\n",
       "      <th>50%</th>\n",
       "      <th>75%</th>\n",
       "      <th>max</th>\n",
       "    </tr>\n",
       "    <tr>\n",
       "      <th>liability_label</th>\n",
       "      <th></th>\n",
       "      <th></th>\n",
       "      <th></th>\n",
       "      <th></th>\n",
       "      <th></th>\n",
       "      <th></th>\n",
       "      <th></th>\n",
       "      <th></th>\n",
       "    </tr>\n",
       "  </thead>\n",
       "  <tbody>\n",
       "    <tr>\n",
       "      <th>site parodique</th>\n",
       "      <td>31.0</td>\n",
       "      <td>9.547826e+04</td>\n",
       "      <td>2.742276e+05</td>\n",
       "      <td>18.0</td>\n",
       "      <td>309.50</td>\n",
       "      <td>3060.0</td>\n",
       "      <td>36438.00</td>\n",
       "      <td>1347330.0</td>\n",
       "    </tr>\n",
       "    <tr>\n",
       "      <th>site qui diffuse régulièrement de la fausse information</th>\n",
       "      <td>52.0</td>\n",
       "      <td>2.297637e+04</td>\n",
       "      <td>4.562826e+04</td>\n",
       "      <td>3.0</td>\n",
       "      <td>779.25</td>\n",
       "      <td>5532.0</td>\n",
       "      <td>21271.75</td>\n",
       "      <td>258276.0</td>\n",
       "    </tr>\n",
       "    <tr>\n",
       "      <th>site réputé fiable</th>\n",
       "      <td>201.0</td>\n",
       "      <td>1.973150e+06</td>\n",
       "      <td>6.329455e+06</td>\n",
       "      <td>119.0</td>\n",
       "      <td>48184.00</td>\n",
       "      <td>209544.0</td>\n",
       "      <td>1228261.00</td>\n",
       "      <td>55502385.0</td>\n",
       "    </tr>\n",
       "    <tr>\n",
       "      <th>site à la fiabilité douteuse</th>\n",
       "      <td>39.0</td>\n",
       "      <td>8.261714e+05</td>\n",
       "      <td>3.310704e+06</td>\n",
       "      <td>184.0</td>\n",
       "      <td>5791.50</td>\n",
       "      <td>24070.0</td>\n",
       "      <td>97685.00</td>\n",
       "      <td>20468144.0</td>\n",
       "    </tr>\n",
       "  </tbody>\n",
       "</table>\n",
       "</div>"
      ],
      "text/plain": [
       "                                                         count          mean  \\\n",
       "liability_label                                                                \n",
       "site parodique                                            31.0  9.547826e+04   \n",
       "site qui diffuse régulièrement de la fausse information   52.0  2.297637e+04   \n",
       "site réputé fiable                                       201.0  1.973150e+06   \n",
       "site à la fiabilité douteuse                              39.0  8.261714e+05   \n",
       "\n",
       "                                                                  std    min  \\\n",
       "liability_label                                                                \n",
       "site parodique                                           2.742276e+05   18.0   \n",
       "site qui diffuse régulièrement de la fausse information  4.562826e+04    3.0   \n",
       "site réputé fiable                                       6.329455e+06  119.0   \n",
       "site à la fiabilité douteuse                             3.310704e+06  184.0   \n",
       "\n",
       "                                                              25%       50%  \\\n",
       "liability_label                                                               \n",
       "site parodique                                             309.50    3060.0   \n",
       "site qui diffuse régulièrement de la fausse information    779.25    5532.0   \n",
       "site réputé fiable                                       48184.00  209544.0   \n",
       "site à la fiabilité douteuse                              5791.50   24070.0   \n",
       "\n",
       "                                                                75%  \\\n",
       "liability_label                                                       \n",
       "site parodique                                             36438.00   \n",
       "site qui diffuse régulièrement de la fausse information    21271.75   \n",
       "site réputé fiable                                       1228261.00   \n",
       "site à la fiabilité douteuse                               97685.00   \n",
       "\n",
       "                                                                max  \n",
       "liability_label                                                      \n",
       "site parodique                                            1347330.0  \n",
       "site qui diffuse régulièrement de la fausse information    258276.0  \n",
       "site réputé fiable                                       55502385.0  \n",
       "site à la fiabilité douteuse                             20468144.0  "
      ]
     },
     "execution_count": 30,
     "metadata": {},
     "output_type": "execute_result"
    }
   ],
   "source": [
    "df_sites.groupby(\"liability_label\").count_followers.describe()"
   ]
  },
  {
   "cell_type": "code",
   "execution_count": 31,
   "id": "081d03f4",
   "metadata": {},
   "outputs": [
    {
     "data": {
      "image/png": "[encoded data removed]",
      "text/plain": [
       "<Figure size 432x288 with 1 Axes>"
      ]
     },
     "metadata": {},
     "output_type": "display_data"
    }
   ],
   "source": [
    "sns.boxplot(data=tweets_all_accounts, y=\"liability_label\",x=\"retweet_count\", showfliers=False)\n",
    "plt.show()"
   ]
  },
  {
   "cell_type": "code",
   "execution_count": 32,
   "id": "4c50dfb3",
   "metadata": {},
   "outputs": [
    {
     "data": {
      "image/png": "[encoded data removed]",
      "text/plain": [
       "<Figure size 432x288 with 1 Axes>"
      ]
     },
     "metadata": {},
     "output_type": "display_data"
    }
   ],
   "source": [
    "sns.boxplot(data=tweets_all_accounts, y=\"liability_label\",x=\"favorite_count\", showfliers=False)\n",
    "plt.show()"
   ]
  },
  {
   "cell_type": "code",
   "execution_count": 33,
   "id": "f1c60459",
   "metadata": {},
   "outputs": [
    {
     "data": {
      "image/png": "[encoded data removed]",
      "text/plain": [
       "<Figure size 432x288 with 1 Axes>"
      ]
     },
     "metadata": {},
     "output_type": "display_data"
    }
   ],
   "source": [
    "tweets_all_accounts[\"retweet_nb_follower\"] = tweets_all_accounts[\"retweet_count\"] / tweets_all_accounts[\"count_followers\"]\n",
    "\n",
    "sns.boxplot(data=tweets_all_accounts, y=\"liability_label\",x=\"retweet_nb_follower\", showfliers=False)\n",
    "plt.show()"
   ]
  },
  {
   "cell_type": "code",
   "execution_count": 34,
   "id": "e42aeba9",
   "metadata": {},
   "outputs": [
    {
     "data": {
      "text/html": [
       "<div>\n",
       "<style scoped>\n",
       "    .dataframe tbody tr th:only-of-type {\n",
       "        vertical-align: middle;\n",
       "    }\n",
       "\n",
       "    .dataframe tbody tr th {\n",
       "        vertical-align: top;\n",
       "    }\n",
       "\n",
       "    .dataframe thead tr th {\n",
       "        text-align: left;\n",
       "    }\n",
       "\n",
       "    .dataframe thead tr:last-of-type th {\n",
       "        text-align: right;\n",
       "    }\n",
       "</style>\n",
       "<table border=\"1\" class=\"dataframe\">\n",
       "  <thead>\n",
       "    <tr>\n",
       "      <th></th>\n",
       "      <th colspan=\"8\" halign=\"left\">count_followers</th>\n",
       "    </tr>\n",
       "    <tr>\n",
       "      <th></th>\n",
       "      <th>count</th>\n",
       "      <th>mean</th>\n",
       "      <th>std</th>\n",
       "      <th>min</th>\n",
       "      <th>25%</th>\n",
       "      <th>50%</th>\n",
       "      <th>75%</th>\n",
       "      <th>max</th>\n",
       "    </tr>\n",
       "    <tr>\n",
       "      <th>liability_label</th>\n",
       "      <th></th>\n",
       "      <th></th>\n",
       "      <th></th>\n",
       "      <th></th>\n",
       "      <th></th>\n",
       "      <th></th>\n",
       "      <th></th>\n",
       "      <th></th>\n",
       "    </tr>\n",
       "  </thead>\n",
       "  <tbody>\n",
       "    <tr>\n",
       "      <th>site parodique</th>\n",
       "      <td>51506.0</td>\n",
       "      <td>1.805856e+05</td>\n",
       "      <td>3.561316e+05</td>\n",
       "      <td>18.0</td>\n",
       "      <td>6376.0</td>\n",
       "      <td>26952.0</td>\n",
       "      <td>147411.0</td>\n",
       "      <td>1347330.0</td>\n",
       "    </tr>\n",
       "    <tr>\n",
       "      <th>site qui diffuse régulièrement de la fausse information</th>\n",
       "      <td>133675.0</td>\n",
       "      <td>2.745449e+04</td>\n",
       "      <td>4.904187e+04</td>\n",
       "      <td>3.0</td>\n",
       "      <td>2349.0</td>\n",
       "      <td>7523.0</td>\n",
       "      <td>27526.0</td>\n",
       "      <td>258276.0</td>\n",
       "    </tr>\n",
       "    <tr>\n",
       "      <th>site réputé fiable</th>\n",
       "      <td>632999.0</td>\n",
       "      <td>1.938326e+06</td>\n",
       "      <td>6.318569e+06</td>\n",
       "      <td>119.0</td>\n",
       "      <td>53505.0</td>\n",
       "      <td>224069.0</td>\n",
       "      <td>1228261.0</td>\n",
       "      <td>55502385.0</td>\n",
       "    </tr>\n",
       "    <tr>\n",
       "      <th>site à la fiabilité douteuse</th>\n",
       "      <td>108008.0</td>\n",
       "      <td>9.683503e+05</td>\n",
       "      <td>3.520828e+06</td>\n",
       "      <td>184.0</td>\n",
       "      <td>10281.0</td>\n",
       "      <td>26693.0</td>\n",
       "      <td>164065.0</td>\n",
       "      <td>20468144.0</td>\n",
       "    </tr>\n",
       "  </tbody>\n",
       "</table>\n",
       "</div>"
      ],
      "text/plain": [
       "                                                        count_followers  \\\n",
       "                                                                  count   \n",
       "liability_label                                                           \n",
       "site parodique                                                  51506.0   \n",
       "site qui diffuse régulièrement de la fausse information        133675.0   \n",
       "site réputé fiable                                             632999.0   \n",
       "site à la fiabilité douteuse                                   108008.0   \n",
       "\n",
       "                                                                       \\\n",
       "                                                                 mean   \n",
       "liability_label                                                         \n",
       "site parodique                                           1.805856e+05   \n",
       "site qui diffuse régulièrement de la fausse information  2.745449e+04   \n",
       "site réputé fiable                                       1.938326e+06   \n",
       "site à la fiabilité douteuse                             9.683503e+05   \n",
       "\n",
       "                                                                              \\\n",
       "                                                                  std    min   \n",
       "liability_label                                                                \n",
       "site parodique                                           3.561316e+05   18.0   \n",
       "site qui diffuse régulièrement de la fausse information  4.904187e+04    3.0   \n",
       "site réputé fiable                                       6.318569e+06  119.0   \n",
       "site à la fiabilité douteuse                             3.520828e+06  184.0   \n",
       "\n",
       "                                                                            \\\n",
       "                                                             25%       50%   \n",
       "liability_label                                                              \n",
       "site parodique                                            6376.0   26952.0   \n",
       "site qui diffuse régulièrement de la fausse information   2349.0    7523.0   \n",
       "site réputé fiable                                       53505.0  224069.0   \n",
       "site à la fiabilité douteuse                             10281.0   26693.0   \n",
       "\n",
       "                                                                                \n",
       "                                                               75%         max  \n",
       "liability_label                                                                 \n",
       "site parodique                                            147411.0   1347330.0  \n",
       "site qui diffuse régulièrement de la fausse information    27526.0    258276.0  \n",
       "site réputé fiable                                       1228261.0  55502385.0  \n",
       "site à la fiabilité douteuse                              164065.0  20468144.0  "
      ]
     },
     "execution_count": 34,
     "metadata": {},
     "output_type": "execute_result"
    }
   ],
   "source": [
    "tweets_all_accounts.groupby([\"liability_label\"])[[\"count_followers\"]].describe()"
   ]
  },
  {
   "cell_type": "code",
   "execution_count": 35,
   "id": "01e09575",
   "metadata": {},
   "outputs": [
    {
     "data": {
      "text/html": [
       "<div>\n",
       "<style scoped>\n",
       "    .dataframe tbody tr th:only-of-type {\n",
       "        vertical-align: middle;\n",
       "    }\n",
       "\n",
       "    .dataframe tbody tr th {\n",
       "        vertical-align: top;\n",
       "    }\n",
       "\n",
       "    .dataframe thead tr th {\n",
       "        text-align: left;\n",
       "    }\n",
       "\n",
       "    .dataframe thead tr:last-of-type th {\n",
       "        text-align: right;\n",
       "    }\n",
       "</style>\n",
       "<table border=\"1\" class=\"dataframe\">\n",
       "  <thead>\n",
       "    <tr>\n",
       "      <th></th>\n",
       "      <th colspan=\"8\" halign=\"left\">retweet_count</th>\n",
       "    </tr>\n",
       "    <tr>\n",
       "      <th></th>\n",
       "      <th>count</th>\n",
       "      <th>mean</th>\n",
       "      <th>std</th>\n",
       "      <th>min</th>\n",
       "      <th>25%</th>\n",
       "      <th>50%</th>\n",
       "      <th>75%</th>\n",
       "      <th>max</th>\n",
       "    </tr>\n",
       "    <tr>\n",
       "      <th>liability_label</th>\n",
       "      <th></th>\n",
       "      <th></th>\n",
       "      <th></th>\n",
       "      <th></th>\n",
       "      <th></th>\n",
       "      <th></th>\n",
       "      <th></th>\n",
       "      <th></th>\n",
       "    </tr>\n",
       "  </thead>\n",
       "  <tbody>\n",
       "    <tr>\n",
       "      <th>site parodique</th>\n",
       "      <td>51506.0</td>\n",
       "      <td>83.244612</td>\n",
       "      <td>1790.218766</td>\n",
       "      <td>0.0</td>\n",
       "      <td>1.0</td>\n",
       "      <td>4.0</td>\n",
       "      <td>21.0</td>\n",
       "      <td>355426.0</td>\n",
       "    </tr>\n",
       "    <tr>\n",
       "      <th>site qui diffuse régulièrement de la fausse information</th>\n",
       "      <td>133675.0</td>\n",
       "      <td>145.417071</td>\n",
       "      <td>10639.520413</td>\n",
       "      <td>0.0</td>\n",
       "      <td>0.0</td>\n",
       "      <td>2.0</td>\n",
       "      <td>10.0</td>\n",
       "      <td>3851676.0</td>\n",
       "    </tr>\n",
       "    <tr>\n",
       "      <th>site réputé fiable</th>\n",
       "      <td>632999.0</td>\n",
       "      <td>56.781439</td>\n",
       "      <td>3328.670905</td>\n",
       "      <td>0.0</td>\n",
       "      <td>1.0</td>\n",
       "      <td>3.0</td>\n",
       "      <td>10.0</td>\n",
       "      <td>2053424.0</td>\n",
       "    </tr>\n",
       "    <tr>\n",
       "      <th>site à la fiabilité douteuse</th>\n",
       "      <td>108008.0</td>\n",
       "      <td>118.523952</td>\n",
       "      <td>1825.821758</td>\n",
       "      <td>0.0</td>\n",
       "      <td>1.0</td>\n",
       "      <td>5.0</td>\n",
       "      <td>23.0</td>\n",
       "      <td>233813.0</td>\n",
       "    </tr>\n",
       "  </tbody>\n",
       "</table>\n",
       "</div>"
      ],
      "text/plain": [
       "                                                        retweet_count  \\\n",
       "                                                                count   \n",
       "liability_label                                                         \n",
       "site parodique                                                51506.0   \n",
       "site qui diffuse régulièrement de la fausse information      133675.0   \n",
       "site réputé fiable                                           632999.0   \n",
       "site à la fiabilité douteuse                                 108008.0   \n",
       "\n",
       "                                                                     \\\n",
       "                                                               mean   \n",
       "liability_label                                                       \n",
       "site parodique                                            83.244612   \n",
       "site qui diffuse régulièrement de la fausse information  145.417071   \n",
       "site réputé fiable                                        56.781439   \n",
       "site à la fiabilité douteuse                             118.523952   \n",
       "\n",
       "                                                                            \\\n",
       "                                                                  std  min   \n",
       "liability_label                                                              \n",
       "site parodique                                            1790.218766  0.0   \n",
       "site qui diffuse régulièrement de la fausse information  10639.520413  0.0   \n",
       "site réputé fiable                                        3328.670905  0.0   \n",
       "site à la fiabilité douteuse                              1825.821758  0.0   \n",
       "\n",
       "                                                                         \\\n",
       "                                                         25%  50%   75%   \n",
       "liability_label                                                           \n",
       "site parodique                                           1.0  4.0  21.0   \n",
       "site qui diffuse régulièrement de la fausse information  0.0  2.0  10.0   \n",
       "site réputé fiable                                       1.0  3.0  10.0   \n",
       "site à la fiabilité douteuse                             1.0  5.0  23.0   \n",
       "\n",
       "                                                                    \n",
       "                                                               max  \n",
       "liability_label                                                     \n",
       "site parodique                                            355426.0  \n",
       "site qui diffuse régulièrement de la fausse information  3851676.0  \n",
       "site réputé fiable                                       2053424.0  \n",
       "site à la fiabilité douteuse                              233813.0  "
      ]
     },
     "execution_count": 35,
     "metadata": {},
     "output_type": "execute_result"
    }
   ],
   "source": [
    "tweets_all_accounts.groupby([\"liability_label\"])[[\"retweet_count\"]].describe()"
   ]
  },
  {
   "cell_type": "code",
   "execution_count": 36,
   "id": "5df59b57",
   "metadata": {},
   "outputs": [
    {
     "data": {
      "text/plain": [
       "liability_label                                          liability\n",
       "site parodique                                           1             51506\n",
       "site qui diffuse régulièrement de la fausse information  2            133675\n",
       "site réputé fiable                                       4            632999\n",
       "site à la fiabilité douteuse                             3            108008\n",
       "dtype: int64"
      ]
     },
     "execution_count": 36,
     "metadata": {},
     "output_type": "execute_result"
    }
   ],
   "source": [
    "tweets_all_accounts.groupby([\"liability_label\",\"liability\"]).size()"
   ]
  },
  {
   "cell_type": "code",
   "execution_count": 37,
   "id": "068f94d6",
   "metadata": {},
   "outputs": [],
   "source": [
    "def visualize_count_favorites(df, label_liability) : \n",
    "  \n",
    "    ''' Cette fonction permet de visualiser le nombre de favoris et de retweets \n",
    "    sur toute la période pour un user_id donné '''\n",
    "\n",
    "    df_temp = df.loc[df[\"liability\"] == label_liability]\n",
    "    ylabels = [\"favorite_count\", \"retweet_count\"]\n",
    "\n",
    "    print(\"Représentation des nombres de retweets et de favoris de chaque tweet de {} par date\".format(label_liability))\n",
    "    fig = plt.figure(figsize=(13,3))\n",
    "    fig.subplots_adjust(hspace=0.01,wspace=0.01)\n",
    "    \n",
    "    n_row = len(ylabels)\n",
    "    n_col = 1\n",
    "    for count, ylabel in enumerate(ylabels):\n",
    "        ax = fig.add_subplot(n_row, n_col, count + 1)\n",
    "        ax.plot(df_temp[\"created_at\"], df_temp[ylabel])\n",
    "        ax.set_ylabel(ylabel)\n",
    "      \n",
    "    plt.show()"
   ]
  },
  {
   "cell_type": "code",
   "execution_count": 38,
   "id": "0d3a82e6",
   "metadata": {},
   "outputs": [
    {
     "name": "stdout",
     "output_type": "stream",
     "text": [
      "Représentation des nombres de retweets et de favoris de chaque tweet de 1 par date\n"
     ]
    },
    {
     "data": {
      "image/png": "[encoded data removed]",
      "text/plain": [
       "<Figure size 936x216 with 2 Axes>"
      ]
     },
     "metadata": {},
     "output_type": "display_data"
    },
    {
     "name": "stdout",
     "output_type": "stream",
     "text": [
      "Représentation des nombres de retweets et de favoris de chaque tweet de 2 par date\n"
     ]
    },
    {
     "data": {
      "image/png": "[encoded data removed]",
      "text/plain": [
       "<Figure size 936x216 with 2 Axes>"
      ]
     },
     "metadata": {},
     "output_type": "display_data"
    },
    {
     "name": "stdout",
     "output_type": "stream",
     "text": [
      "Représentation des nombres de retweets et de favoris de chaque tweet de 3 par date\n"
     ]
    },
    {
     "data": {
      "image/png": "[encoded data removed]",
      "text/plain": [
       "<Figure size 936x216 with 2 Axes>"
      ]
     },
     "metadata": {},
     "output_type": "display_data"
    },
    {
     "name": "stdout",
     "output_type": "stream",
     "text": [
      "Représentation des nombres de retweets et de favoris de chaque tweet de 4 par date\n"
     ]
    },
    {
     "data": {
      "image/png": "[encoded data removed]",
      "text/plain": [
       "<Figure size 936x216 with 2 Axes>"
      ]
     },
     "metadata": {},
     "output_type": "display_data"
    }
   ],
   "source": [
    "visualize_count_favorites(tweets_all_accounts, 1)\n",
    "visualize_count_favorites(tweets_all_accounts, 2)\n",
    "visualize_count_favorites(tweets_all_accounts, 3)\n",
    "visualize_count_favorites(tweets_all_accounts, 4)"
   ]
  },
  {
   "cell_type": "code",
   "execution_count": 39,
   "id": "9afb1f41",
   "metadata": {},
   "outputs": [
    {
     "data": {
      "text/html": [
       "<div>\n",
       "<style scoped>\n",
       "    .dataframe tbody tr th:only-of-type {\n",
       "        vertical-align: middle;\n",
       "    }\n",
       "\n",
       "    .dataframe tbody tr th {\n",
       "        vertical-align: top;\n",
       "    }\n",
       "\n",
       "    .dataframe thead th {\n",
       "        text-align: right;\n",
       "    }\n",
       "</style>\n",
       "<table border=\"1\" class=\"dataframe\">\n",
       "  <thead>\n",
       "    <tr style=\"text-align: right;\">\n",
       "      <th></th>\n",
       "      <th>count</th>\n",
       "      <th>mean</th>\n",
       "      <th>std</th>\n",
       "      <th>min</th>\n",
       "      <th>25%</th>\n",
       "      <th>50%</th>\n",
       "      <th>75%</th>\n",
       "      <th>max</th>\n",
       "    </tr>\n",
       "    <tr>\n",
       "      <th>liability_label</th>\n",
       "      <th></th>\n",
       "      <th></th>\n",
       "      <th></th>\n",
       "      <th></th>\n",
       "      <th></th>\n",
       "      <th></th>\n",
       "      <th></th>\n",
       "      <th></th>\n",
       "    </tr>\n",
       "  </thead>\n",
       "  <tbody>\n",
       "    <tr>\n",
       "      <th>site parodique</th>\n",
       "      <td>51506.0</td>\n",
       "      <td>14.954724</td>\n",
       "      <td>5.350026</td>\n",
       "      <td>1.0</td>\n",
       "      <td>12.0</td>\n",
       "      <td>16.0</td>\n",
       "      <td>19.0</td>\n",
       "      <td>34.0</td>\n",
       "    </tr>\n",
       "    <tr>\n",
       "      <th>site qui diffuse régulièrement de la fausse information</th>\n",
       "      <td>133675.0</td>\n",
       "      <td>14.963097</td>\n",
       "      <td>5.632404</td>\n",
       "      <td>1.0</td>\n",
       "      <td>11.0</td>\n",
       "      <td>15.0</td>\n",
       "      <td>19.0</td>\n",
       "      <td>34.0</td>\n",
       "    </tr>\n",
       "    <tr>\n",
       "      <th>site réputé fiable</th>\n",
       "      <td>632999.0</td>\n",
       "      <td>16.333105</td>\n",
       "      <td>4.965509</td>\n",
       "      <td>1.0</td>\n",
       "      <td>13.0</td>\n",
       "      <td>17.0</td>\n",
       "      <td>20.0</td>\n",
       "      <td>49.0</td>\n",
       "    </tr>\n",
       "    <tr>\n",
       "      <th>site à la fiabilité douteuse</th>\n",
       "      <td>108008.0</td>\n",
       "      <td>15.700115</td>\n",
       "      <td>5.395326</td>\n",
       "      <td>1.0</td>\n",
       "      <td>12.0</td>\n",
       "      <td>16.0</td>\n",
       "      <td>20.0</td>\n",
       "      <td>33.0</td>\n",
       "    </tr>\n",
       "  </tbody>\n",
       "</table>\n",
       "</div>"
      ],
      "text/plain": [
       "                                                            count       mean  \\\n",
       "liability_label                                                                \n",
       "site parodique                                            51506.0  14.954724   \n",
       "site qui diffuse régulièrement de la fausse information  133675.0  14.963097   \n",
       "site réputé fiable                                       632999.0  16.333105   \n",
       "site à la fiabilité douteuse                             108008.0  15.700115   \n",
       "\n",
       "                                                              std  min   25%  \\\n",
       "liability_label                                                                \n",
       "site parodique                                           5.350026  1.0  12.0   \n",
       "site qui diffuse régulièrement de la fausse information  5.632404  1.0  11.0   \n",
       "site réputé fiable                                       4.965509  1.0  13.0   \n",
       "site à la fiabilité douteuse                             5.395326  1.0  12.0   \n",
       "\n",
       "                                                          50%   75%   max  \n",
       "liability_label                                                            \n",
       "site parodique                                           16.0  19.0  34.0  \n",
       "site qui diffuse régulièrement de la fausse information  15.0  19.0  34.0  \n",
       "site réputé fiable                                       17.0  20.0  49.0  \n",
       "site à la fiabilité douteuse                             16.0  20.0  33.0  "
      ]
     },
     "execution_count": 39,
     "metadata": {},
     "output_type": "execute_result"
    }
   ],
   "source": [
    "# Calcul d'une variable contenant le nombre de mots de chaque tweets\n",
    "tweets_all_accounts[\"lenght_tweet\"] = tweets_all_accounts[\"tweet\"].apply(lambda tweet : len(tweet.split()))\n",
    "\n",
    "# Calcul de la distribution de la variable pour chaque politique\n",
    "tweets_all_accounts.groupby([\"liability_label\"]).lenght_tweet.describe()"
   ]
  },
  {
   "cell_type": "code",
   "execution_count": 40,
   "id": "11e5f52a",
   "metadata": {},
   "outputs": [],
   "source": [
    "def print_famous_tweets(df, liability, nb_favorites) :\n",
    "\n",
    "    ''' Cette fonction permet de sélectionner les tweets qui ont eu le plus de favoris \n",
    "    pour un label donné, et de lire le tweet avec les indicateurs des autres variables de la \n",
    "    base de données  \n",
    "    '''\n",
    "\n",
    "    df_sub = df.loc[(df.liability==liability) & (df.favorite_count > nb_favorites),:]\n",
    "    for irow in range(df_sub.shape[0]):\n",
    "        df_row = df_sub.iloc[irow,:]\n",
    "    \n",
    "        print(df_row[\"created_at\"])\n",
    "        print(\"favorite_count={:6} retweet_count={:6}\".format(df_row[\"favorite_count\"],df_row[\"retweet_count\"]))\n",
    "        print(df_row[\"tweet\"])\n",
    "        print(\"\\n\")"
   ]
  },
  {
   "cell_type": "code",
   "execution_count": 41,
   "id": "f74fc60c",
   "metadata": {},
   "outputs": [
    {
     "name": "stdout",
     "output_type": "stream",
     "text": [
      "2021-03-30 08:15:00+00:00\n",
      "favorite_count= 22412 retweet_count=  5765\n",
      "🔴 COVID-19 : Emmanuel Macron aurait regardé l’intégralité des épisodes de la série « Il était une fois... la Vie. »… https://t.co/htXCzrLHaq\n",
      "\n",
      "\n",
      "2021-10-04 17:34:40+00:00\n",
      "favorite_count= 21729 retweet_count=  6225\n",
      "Fuentes de Facebook confirman que le habían advertido a Mark Zuckerberg no contratar a Centros Poblados. https://t.co/AT3C3JqOmS\n",
      "\n",
      "\n",
      "2021-05-22 14:47:05+00:00\n",
      "favorite_count= 20185 retweet_count=  6874\n",
      "#Exclusivo!!! @IvanDuque se confiesa https://t.co/EnsknfgDhw\n",
      "\n",
      "\n",
      "2021-04-28 14:50:39+00:00\n",
      "favorite_count= 22533 retweet_count=  6132\n",
      "Derriban estatua de Botero tras confundirla con estatua de ⁦Iván Duque. https://t.co/cwx36bs2RB\n",
      "\n",
      "\n",
      "2020-08-04 19:39:06+00:00\n",
      "favorite_count= 61398 retweet_count= 18363\n",
      "ICBF asumirá custodia de Iván Duque.\n",
      "\n",
      "\n",
      "2020-06-19 15:04:32+00:00\n",
      "favorite_count= 29457 retweet_count= 10161\n",
      "Con éxito arrancó el Covid Friday en grandes almacenes de Colombia.\n",
      "\n",
      "\n",
      "2021-11-23 15:43:32+00:00\n",
      "favorite_count= 57946 retweet_count= 10115\n",
      "NEWS! Potatoes win “Best Vegetable” for 318th year in a row https://t.co/r1kaQO7rfP https://t.co/MBp6TNf965\n",
      "\n",
      "\n",
      "2021-03-10 10:23:45+00:00\n",
      "favorite_count= 36668 retweet_count=  9988\n",
      "NEWS! Man who yelled at royal couple for quitting jobs, quits job https://t.co/65Puw9FKsX https://t.co/9NAapAkSRJ\n",
      "\n",
      "\n",
      "2021-04-07 20:43:22+00:00\n",
      "favorite_count= 28768 retweet_count=  5899\n",
      "Oh et puis merde, vous l'avez cherché, démerdez-vous sans nous. https://t.co/LgCAXvdShD\n",
      "\n",
      "\n",
      "2021-02-11 09:34:14+00:00\n",
      "favorite_count= 31346 retweet_count=  6389\n",
      "Pour remonter le moral des Français, Jean Castex fera désormais ses annonces déguisé en tournesol… https://t.co/L6BahuifJZ\n",
      "\n",
      "\n"
     ]
    }
   ],
   "source": [
    "print_famous_tweets(tweets_all_accounts, 1, 20000)"
   ]
  }
 ],
 "metadata": {
  "kernelspec": {
   "display_name": "Python 3 (ipykernel)",
   "language": "python",
   "name": "python3"
  },
  "language_info": {
   "codemirror_mode": {
    "name": "ipython",
    "version": 3
   },
   "file_extension": ".py",
   "mimetype": "text/x-python",
   "name": "python",
   "nbconvert_exporter": "python",
   "pygments_lexer": "ipython3",
   "version": "3.7.11"
  }
 },
 "nbformat": 4,
 "nbformat_minor": 5
}
